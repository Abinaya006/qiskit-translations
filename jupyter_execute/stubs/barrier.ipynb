{
 "cells": [
  {
   "cell_type": "code",
   "execution_count": 1,
   "id": "familiar-pollution",
   "metadata": {
    "execution": {
     "iopub.execute_input": "2021-01-19T21:39:32.596982Z",
     "iopub.status.busy": "2021-01-19T21:39:32.596370Z",
     "iopub.status.idle": "2021-01-19T21:39:34.694417Z",
     "shell.execute_reply": "2021-01-19T21:39:34.693340Z"
    }
   },
   "outputs": [],
   "source": [
    "from qiskit import pulse\n",
    "from qiskit.test.mock import FakeOpenPulse2Q\n",
    "\n",
    "backend = FakeOpenPulse2Q()\n",
    "\n",
    "d0 = pulse.DriveChannel(0)\n",
    "d1 = pulse.DriveChannel(1)\n",
    "\n",
    "with pulse.build(backend) as barrier_pulse_prog:\n",
    "    pulse.play(pulse.Constant(10, 1.0), d0)\n",
    "    pulse.barrier(d0, d1)\n",
    "    pulse.play(pulse.Constant(10, 1.0), d1)"
   ]
  },
  {
   "cell_type": "code",
   "execution_count": 2,
   "id": "failing-bryan",
   "metadata": {
    "execution": {
     "iopub.execute_input": "2021-01-19T21:39:34.701504Z",
     "iopub.status.busy": "2021-01-19T21:39:34.700813Z",
     "iopub.status.idle": "2021-01-19T21:39:34.704344Z",
     "shell.execute_reply": "2021-01-19T21:39:34.704777Z"
    }
   },
   "outputs": [],
   "source": [
    "from qiskit.pulse import transforms\n",
    "\n",
    "with pulse.build(backend) as aligned_pulse_prog:\n",
    "    with pulse.align_sequential():\n",
    "        pulse.play(pulse.Constant(10, 1.0), d0)\n",
    "        pulse.play(pulse.Constant(10, 1.0), d1)\n",
    "\n",
    "barrier_pulse_prog = transforms.remove_directives(barrier_pulse_prog)\n",
    "assert barrier_pulse_prog == aligned_pulse_prog"
   ]
  },
  {
   "cell_type": "code",
   "execution_count": 3,
   "id": "collect-health",
   "metadata": {
    "execution": {
     "iopub.execute_input": "2021-01-19T21:39:34.753002Z",
     "iopub.status.busy": "2021-01-19T21:39:34.710925Z",
     "iopub.status.idle": "2021-01-19T21:39:34.911919Z",
     "shell.execute_reply": "2021-01-19T21:39:34.912392Z"
    }
   },
   "outputs": [],
   "source": [
    "import math\n",
    "\n",
    "d0 = pulse.DriveChannel(0)\n",
    "\n",
    "with pulse.build(backend) as pulse_prog:\n",
    "    with pulse.align_right():\n",
    "        pulse.x(1)\n",
    "        # Barrier qubit 1 and d0.\n",
    "        pulse.barrier(1, d0)\n",
    "        # Due to barrier this will play before the gate on qubit 1.\n",
    "        pulse.play(pulse.Constant(10, 1.0), d0)\n",
    "        # This will end at the same time as the pulse above due to\n",
    "        # the barrier.\n",
    "        pulse.x(1)"
   ]
  }
 ],
 "metadata": {
  "kernelspec": {
   "display_name": "Python 3",
   "language": "python",
   "name": "python3"
  },
  "language_info": {
   "codemirror_mode": {
    "name": "ipython",
    "version": 3
   },
   "file_extension": ".py",
   "mimetype": "text/x-python",
   "name": "python",
   "nbconvert_exporter": "python",
   "pygments_lexer": "ipython3",
   "version": "3.8.7"
  }
 },
 "nbformat": 4,
 "nbformat_minor": 5
}