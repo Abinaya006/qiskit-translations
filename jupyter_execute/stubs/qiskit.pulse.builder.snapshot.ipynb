{
 "cells": [
  {
   "cell_type": "code",
   "execution_count": 1,
   "metadata": {
    "execution": {
     "iopub.execute_input": "2020-11-03T17:35:01.940374Z",
     "iopub.status.busy": "2020-11-03T17:35:01.936379Z",
     "iopub.status.idle": "2020-11-03T17:35:04.041336Z",
     "shell.execute_reply": "2020-11-03T17:35:04.040776Z"
    }
   },
   "outputs": [],
   "source": [
    "from qiskit import pulse\n",
    "\n",
    "with pulse.build() as pulse_prog:\n",
    "    pulse.snapshot('first', 'statevector')"
   ]
  }
 ],
 "metadata": {
  "kernelspec": {
   "display_name": "Python 3",
   "language": "python",
   "name": "python3"
  },
  "language_info": {
   "codemirror_mode": {
    "name": "ipython",
    "version": 3
   },
   "file_extension": ".py",
   "mimetype": "text/x-python",
   "name": "python",
   "nbconvert_exporter": "python",
   "pygments_lexer": "ipython3",
   "version": "3.8.6"
  }
 },
 "nbformat": 4,
 "nbformat_minor": 4
}