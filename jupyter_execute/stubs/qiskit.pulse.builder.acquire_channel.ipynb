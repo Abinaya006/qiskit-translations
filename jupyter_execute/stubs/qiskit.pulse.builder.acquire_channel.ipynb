{
 "cells": [
  {
   "cell_type": "code",
   "execution_count": 1,
   "metadata": {
    "execution": {
     "iopub.execute_input": "2020-10-23T16:51:44.622005Z",
     "iopub.status.busy": "2020-10-23T16:51:44.621453Z",
     "iopub.status.idle": "2020-10-23T16:51:46.416831Z",
     "shell.execute_reply": "2020-10-23T16:51:46.415729Z"
    }
   },
   "outputs": [],
   "source": [
    "from qiskit import pulse\n",
    "from qiskit.test.mock import FakeOpenPulse2Q\n",
    "\n",
    "backend = FakeOpenPulse2Q()\n",
    "\n",
    "with pulse.build(backend):\n",
    "    assert pulse.acquire_channel(0) == pulse.AcquireChannel(0)"
   ]
  }
 ],
 "metadata": {
  "kernelspec": {
   "display_name": "Python 3",
   "language": "python",
   "name": "python3"
  },
  "language_info": {
   "codemirror_mode": {
    "name": "ipython",
    "version": 3
   },
   "file_extension": ".py",
   "mimetype": "text/x-python",
   "name": "python",
   "nbconvert_exporter": "python",
   "pygments_lexer": "ipython3",
   "version": "3.8.6"
  }
 },
 "nbformat": 4,
 "nbformat_minor": 4
}