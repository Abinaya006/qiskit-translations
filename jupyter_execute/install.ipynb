{
 "cells": [
  {
   "cell_type": "code",
   "execution_count": 1,
   "metadata": {
    "execution": {
     "iopub.execute_input": "2020-11-25T16:13:09.905039Z",
     "iopub.status.busy": "2020-11-25T16:13:09.904486Z",
     "iopub.status.idle": "2020-11-25T16:13:12.000164Z",
     "shell.execute_reply": "2020-11-25T16:13:12.000630Z"
    }
   },
   "outputs": [
    {
     "data": {
      "text/plain": [
       "'0.16.1'"
      ]
     },
     "execution_count": 1,
     "metadata": {},
     "output_type": "execute_result"
    }
   ],
   "source": [
    "import qiskit\n",
    "qiskit.__version__"
   ]
  },
  {
   "cell_type": "code",
   "execution_count": 2,
   "metadata": {
    "execution": {
     "iopub.execute_input": "2020-11-25T16:13:12.006463Z",
     "iopub.status.busy": "2020-11-25T16:13:12.005505Z",
     "iopub.status.idle": "2020-11-25T16:13:12.009067Z",
     "shell.execute_reply": "2020-11-25T16:13:12.009681Z"
    }
   },
   "outputs": [
    {
     "data": {
      "text/plain": [
       "{'qiskit-terra': '0.16.1',\n",
       " 'qiskit-aer': '0.7.1',\n",
       " 'qiskit-ignis': '0.5.1',\n",
       " 'qiskit-ibmq-provider': '0.11.1',\n",
       " 'qiskit-aqua': '0.8.1',\n",
       " 'qiskit': '0.23.1'}"
      ]
     },
     "execution_count": 2,
     "metadata": {},
     "output_type": "execute_result"
    }
   ],
   "source": [
    "qiskit.__qiskit_version__"
   ]
  }
 ],
 "metadata": {
  "kernelspec": {
   "display_name": "Python 3",
   "language": "python",
   "name": "python3"
  },
  "language_info": {
   "codemirror_mode": {
    "name": "ipython",
    "version": 3
   },
   "file_extension": ".py",
   "mimetype": "text/x-python",
   "name": "python",
   "nbconvert_exporter": "python",
   "pygments_lexer": "ipython3",
   "version": "3.8.6"
  }
 },
 "nbformat": 4,
 "nbformat_minor": 4
}