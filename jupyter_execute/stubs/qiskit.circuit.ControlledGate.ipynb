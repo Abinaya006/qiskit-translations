{
 "cells": [
  {
   "cell_type": "code",
   "execution_count": 1,
   "metadata": {
    "execution": {
     "iopub.execute_input": "2020-12-13T21:43:08.469642Z",
     "iopub.status.busy": "2020-12-13T21:43:08.469217Z",
     "iopub.status.idle": "2020-12-13T21:43:10.166125Z",
     "shell.execute_reply": "2020-12-13T21:43:10.165582Z"
    }
   },
   "outputs": [
    {
     "data": {
      "text/html": [
       "<pre style=\"word-wrap: normal;white-space: pre;background: #fff0;line-height: 1.1;font-family: &quot;Courier New&quot;,Courier,monospace\">           \n",
       "q0_0: ──■──\n",
       "        │  \n",
       "q0_1: ──■──\n",
       "      ┌─┴─┐\n",
       "q0_2: ┤ H ├\n",
       "      └───┘</pre>"
      ],
      "text/plain": [
       "           \n",
       "q0_0: ──■──\n",
       "        │  \n",
       "q0_1: ──■──\n",
       "      ┌─┴─┐\n",
       "q0_2: ┤ H ├\n",
       "      └───┘"
      ]
     },
     "execution_count": 1,
     "metadata": {},
     "output_type": "execute_result"
    }
   ],
   "source": [
    "from qiskit import QuantumCircuit, QuantumRegister\n",
    "from qiskit.circuit.library.standard_gates import HGate\n",
    "\n",
    "qr = QuantumRegister(3)\n",
    "qc = QuantumCircuit(qr)\n",
    "c3h_gate = HGate().control(2)\n",
    "qc.append(c3h_gate, qr)\n",
    "qc.draw()"
   ]
  },
  {
   "cell_type": "code",
   "execution_count": 2,
   "metadata": {
    "execution": {
     "iopub.execute_input": "2020-12-13T21:43:10.180284Z",
     "iopub.status.busy": "2020-12-13T21:43:10.175264Z",
     "iopub.status.idle": "2020-12-13T21:43:10.182268Z",
     "shell.execute_reply": "2020-12-13T21:43:10.182731Z"
    }
   },
   "outputs": [
    {
     "data": {
      "text/html": [
       "<pre style=\"word-wrap: normal;white-space: pre;background: #fff0;line-height: 1.1;font-family: &quot;Courier New&quot;,Courier,monospace\">                   \n",
       "q_0: ──────■───────\n",
       "     ┌─────┴──────┐\n",
       "q_1: ┤0           ├\n",
       "     │  circuit14 │\n",
       "q_2: ┤1           ├\n",
       "     └─────┬──────┘\n",
       "q_3: ──────■───────\n",
       "                   </pre>"
      ],
      "text/plain": [
       "                   \n",
       "q_0: ──────■───────\n",
       "     ┌─────┴──────┐\n",
       "q_1: ┤0           ├\n",
       "     │  circuit14 │\n",
       "q_2: ┤1           ├\n",
       "     └─────┬──────┘\n",
       "q_3: ──────■───────\n",
       "                   "
      ]
     },
     "execution_count": 2,
     "metadata": {},
     "output_type": "execute_result"
    }
   ],
   "source": [
    "from qiskit import QuantumCircuit, QuantumRegister\n",
    "from qiskit.circuit.library.standard_gates import HGate\n",
    "\n",
    "qc1 = QuantumCircuit(2)\n",
    "qc1.x(0)\n",
    "qc1.h(1)\n",
    "custom = qc1.to_gate().control(2)\n",
    "\n",
    "qc2 = QuantumCircuit(4)\n",
    "qc2.append(custom, [0, 3, 1, 2])\n",
    "qc2.draw()"
   ]
  },
  {
   "cell_type": "code",
   "execution_count": 3,
   "metadata": {
    "execution": {
     "iopub.execute_input": "2020-12-13T21:43:10.192963Z",
     "iopub.status.busy": "2020-12-13T21:43:10.192399Z",
     "iopub.status.idle": "2020-12-13T21:43:10.194957Z",
     "shell.execute_reply": "2020-12-13T21:43:10.195339Z"
    }
   },
   "outputs": [
    {
     "data": {
      "text/html": [
       "<pre style=\"word-wrap: normal;white-space: pre;background: #fff0;line-height: 1.1;font-family: &quot;Courier New&quot;,Courier,monospace\">           \n",
       "q1_0: ──■──\n",
       "        │  \n",
       "q1_1: ──■──\n",
       "      ┌─┴─┐\n",
       "q1_2: ┤ H ├\n",
       "      └───┘</pre>"
      ],
      "text/plain": [
       "           \n",
       "q1_0: ──■──\n",
       "        │  \n",
       "q1_1: ──■──\n",
       "      ┌─┴─┐\n",
       "q1_2: ┤ H ├\n",
       "      └───┘"
      ]
     },
     "execution_count": 3,
     "metadata": {},
     "output_type": "execute_result"
    }
   ],
   "source": [
    "from qiskit import QuantumCircuit, QuantumRegister\n",
    "from qiskit.circuit.library.standard_gates import HGate\n",
    "\n",
    "qr = QuantumRegister(3)\n",
    "qc = QuantumCircuit(qr)\n",
    "c3h_gate = HGate().control(2)\n",
    "qc.append(c3h_gate, qr)\n",
    "qc.draw()"
   ]
  },
  {
   "cell_type": "code",
   "execution_count": 4,
   "metadata": {
    "execution": {
     "iopub.execute_input": "2020-12-13T21:43:10.207050Z",
     "iopub.status.busy": "2020-12-13T21:43:10.206499Z",
     "iopub.status.idle": "2020-12-13T21:43:10.209005Z",
     "shell.execute_reply": "2020-12-13T21:43:10.209446Z"
    }
   },
   "outputs": [
    {
     "data": {
      "text/html": [
       "<pre style=\"word-wrap: normal;white-space: pre;background: #fff0;line-height: 1.1;font-family: &quot;Courier New&quot;,Courier,monospace\">                   \n",
       "q_0: ──────■───────\n",
       "     ┌─────┴──────┐\n",
       "q_1: ┤0           ├\n",
       "     │  circuit31 │\n",
       "q_2: ┤1           ├\n",
       "     └─────┬──────┘\n",
       "q_3: ──────■───────\n",
       "                   </pre>"
      ],
      "text/plain": [
       "                   \n",
       "q_0: ──────■───────\n",
       "     ┌─────┴──────┐\n",
       "q_1: ┤0           ├\n",
       "     │  circuit31 │\n",
       "q_2: ┤1           ├\n",
       "     └─────┬──────┘\n",
       "q_3: ──────■───────\n",
       "                   "
      ]
     },
     "execution_count": 4,
     "metadata": {},
     "output_type": "execute_result"
    }
   ],
   "source": [
    "from qiskit import QuantumCircuit, QuantumRegister\n",
    "from qiskit.circuit.library.standard_gates import HGate\n",
    "\n",
    "qc1 = QuantumCircuit(2)\n",
    "qc1.x(0)\n",
    "qc1.h(1)\n",
    "custom = qc1.to_gate().control(2)\n",
    "\n",
    "qc2 = QuantumCircuit(4)\n",
    "qc2.append(custom, [0, 3, 1, 2])\n",
    "qc2.draw()"
   ]
  }
 ],
 "metadata": {
  "kernelspec": {
   "display_name": "Python 3",
   "language": "python",
   "name": "python3"
  },
  "language_info": {
   "codemirror_mode": {
    "name": "ipython",
    "version": 3
   },
   "file_extension": ".py",
   "mimetype": "text/x-python",
   "name": "python",
   "nbconvert_exporter": "python",
   "pygments_lexer": "ipython3",
   "version": "3.8.6"
  }
 },
 "nbformat": 4,
 "nbformat_minor": 4
}