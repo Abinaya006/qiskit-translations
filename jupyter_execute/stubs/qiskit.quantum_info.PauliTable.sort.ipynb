{
 "cells": [
  {
   "cell_type": "code",
   "execution_count": 1,
   "metadata": {
    "execution": {
     "iopub.execute_input": "2020-10-23T15:24:54.265491Z",
     "iopub.status.busy": "2020-10-23T15:24:54.264839Z",
     "iopub.status.idle": "2020-10-23T15:24:56.364884Z",
     "shell.execute_reply": "2020-10-23T15:24:56.364169Z"
    }
   },
   "outputs": [
    {
     "name": "stdout",
     "output_type": "stream",
     "text": [
      "Initial Ordering\n",
      "PauliTable: ['YZ', 'XX', 'ZZ', 'IY', 'YY', 'II', 'IZ', 'ZY', 'IX', 'ZX', 'ZI', 'XY', 'YI', 'YX', 'XZ', 'XI']\n",
      "Lexicographically sorted\n",
      "PauliTable: ['II', 'IX', 'IY', 'IZ', 'XI', 'XX', 'XY', 'XZ', 'YI', 'YX', 'YY', 'YZ', 'ZI', 'ZX', 'ZY', 'ZZ']\n",
      "Weight sorted\n",
      "PauliTable: ['II', 'IX', 'IY', 'IZ', 'XI', 'YI', 'ZI', 'XX', 'XY', 'XZ', 'YX', 'YY', 'YZ', 'ZX', 'ZY', 'ZZ']\n"
     ]
    }
   ],
   "source": [
    "from numpy.random import shuffle\n",
    "from qiskit.quantum_info.operators import PauliTable\n",
    "\n",
    "# 2-qubit labels\n",
    "labels = ['II', 'IX', 'IY', 'IZ', 'XI', 'XX', 'XY', 'XZ',\n",
    "          'YI', 'YX', 'YY', 'YZ', 'ZI', 'ZX', 'ZY', 'ZZ']\n",
    "# Shuffle Labels\n",
    "shuffle(labels)\n",
    "pt = PauliTable.from_labels(labels)\n",
    "print('Initial Ordering')\n",
    "print(pt)\n",
    "\n",
    "# Lexicographic Ordering\n",
    "srt = pt.sort()\n",
    "print('Lexicographically sorted')\n",
    "print(srt)\n",
    "\n",
    "# Weight Ordering\n",
    "srt = pt.sort(weight=True)\n",
    "print('Weight sorted')\n",
    "print(srt)"
   ]
  }
 ],
 "metadata": {
  "kernelspec": {
   "display_name": "Python 3",
   "language": "python",
   "name": "python3"
  },
  "language_info": {
   "codemirror_mode": {
    "name": "ipython",
    "version": 3
   },
   "file_extension": ".py",
   "mimetype": "text/x-python",
   "name": "python",
   "nbconvert_exporter": "python",
   "pygments_lexer": "ipython3",
   "version": "3.8.6"
  }
 },
 "nbformat": 4,
 "nbformat_minor": 4
}