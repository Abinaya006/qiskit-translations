{
 "cells": [
  {
   "cell_type": "code",
   "execution_count": 1,
   "id": "facial-niger",
   "metadata": {
    "execution": {
     "iopub.execute_input": "2021-01-19T18:44:37.199829Z",
     "iopub.status.busy": "2021-01-19T18:44:37.199311Z",
     "iopub.status.idle": "2021-01-19T18:44:38.807473Z",
     "shell.execute_reply": "2021-01-19T18:44:38.807884Z"
    }
   },
   "outputs": [
    {
     "data": {
      "text/plain": [
       "'0.16.1'"
      ]
     },
     "execution_count": 1,
     "metadata": {},
     "output_type": "execute_result"
    }
   ],
   "source": [
    "import qiskit\n",
    "qiskit.__version__"
   ]
  },
  {
   "cell_type": "code",
   "execution_count": 2,
   "id": "outside-meter",
   "metadata": {
    "execution": {
     "iopub.execute_input": "2021-01-19T18:44:38.812231Z",
     "iopub.status.busy": "2021-01-19T18:44:38.811750Z",
     "iopub.status.idle": "2021-01-19T18:44:38.813922Z",
     "shell.execute_reply": "2021-01-19T18:44:38.814296Z"
    }
   },
   "outputs": [
    {
     "data": {
      "text/plain": [
       "{'qiskit-terra': '0.16.1',\n",
       " 'qiskit-aer': '0.7.2',\n",
       " 'qiskit-ignis': '0.5.1',\n",
       " 'qiskit-ibmq-provider': '0.11.1',\n",
       " 'qiskit-aqua': '0.8.1',\n",
       " 'qiskit': '0.23.2'}"
      ]
     },
     "execution_count": 2,
     "metadata": {},
     "output_type": "execute_result"
    }
   ],
   "source": [
    "qiskit.__qiskit_version__"
   ]
  }
 ],
 "metadata": {
  "kernelspec": {
   "display_name": "Python 3",
   "language": "python",
   "name": "python3"
  },
  "language_info": {
   "codemirror_mode": {
    "name": "ipython",
    "version": 3
   },
   "file_extension": ".py",
   "mimetype": "text/x-python",
   "name": "python",
   "nbconvert_exporter": "python",
   "pygments_lexer": "ipython3",
   "version": "3.8.7"
  }
 },
 "nbformat": 4,
 "nbformat_minor": 5
}