{
 "cells": [
  {
   "cell_type": "code",
   "execution_count": 1,
   "id": "completed-marker",
   "metadata": {
    "execution": {
     "iopub.execute_input": "2021-01-19T21:41:47.131639Z",
     "iopub.status.busy": "2021-01-19T21:41:47.130827Z",
     "iopub.status.idle": "2021-01-19T21:41:49.201172Z",
     "shell.execute_reply": "2021-01-19T21:41:49.201609Z"
    }
   },
   "outputs": [
    {
     "name": "stdout",
     "output_type": "stream",
     "text": [
      "PauliTable: ['Y', 'Z', 'Z', 'Y']\n"
     ]
    }
   ],
   "source": [
    "from qiskit.quantum_info.operators import PauliTable\n",
    "\n",
    "current = PauliTable.from_labels(['I', 'X'])\n",
    "other =  PauliTable.from_labels(['Y', 'Z'])\n",
    "print(current.compose(other))"
   ]
  },
  {
   "cell_type": "code",
   "execution_count": 2,
   "id": "equipped-release",
   "metadata": {
    "execution": {
     "iopub.execute_input": "2021-01-19T21:41:49.208577Z",
     "iopub.status.busy": "2021-01-19T21:41:49.207038Z",
     "iopub.status.idle": "2021-01-19T21:41:49.211131Z",
     "shell.execute_reply": "2021-01-19T21:41:49.210586Z"
    }
   },
   "outputs": [
    {
     "name": "stdout",
     "output_type": "stream",
     "text": [
      "PauliTable: ['Y', 'Z', 'Z', 'Y']\n"
     ]
    }
   ],
   "source": [
    "from qiskit.quantum_info.operators import PauliTable\n",
    "\n",
    "current = PauliTable.from_labels(['I', 'X'])\n",
    "other =  PauliTable.from_labels(['Y', 'Z'])\n",
    "print(current.dot(other))"
   ]
  },
  {
   "cell_type": "code",
   "execution_count": 3,
   "id": "medieval-winter",
   "metadata": {
    "execution": {
     "iopub.execute_input": "2021-01-19T21:41:49.218769Z",
     "iopub.status.busy": "2021-01-19T21:41:49.217408Z",
     "iopub.status.idle": "2021-01-19T21:41:49.220919Z",
     "shell.execute_reply": "2021-01-19T21:41:49.220299Z"
    }
   },
   "outputs": [
    {
     "name": "stdout",
     "output_type": "stream",
     "text": [
      "PauliTable: ['YI', 'ZI', 'YX', 'ZX']\n"
     ]
    }
   ],
   "source": [
    "from qiskit.quantum_info.operators import PauliTable\n",
    "\n",
    "current = PauliTable.from_labels(['I', 'X'])\n",
    "other =  PauliTable.from_labels(['Y', 'Z'])\n",
    "print(current.expand(other))"
   ]
  },
  {
   "cell_type": "code",
   "execution_count": 4,
   "id": "expressed-monday",
   "metadata": {
    "execution": {
     "iopub.execute_input": "2021-01-19T21:41:49.228753Z",
     "iopub.status.busy": "2021-01-19T21:41:49.227212Z",
     "iopub.status.idle": "2021-01-19T21:41:49.233774Z",
     "shell.execute_reply": "2021-01-19T21:41:49.233176Z"
    }
   },
   "outputs": [
    {
     "name": "stdout",
     "output_type": "stream",
     "text": [
      "Initial Ordering\n",
      "PauliTable: ['ZX', 'II', 'XZ', 'IZ', 'YX', 'YI', 'YZ', 'ZZ', 'YY', 'IY', 'ZY', 'XX', 'ZI', 'XY', 'IX', 'XI']\n",
      "Lexicographically sorted\n",
      "PauliTable: ['II', 'IX', 'IY', 'IZ', 'XI', 'XX', 'XY', 'XZ', 'YI', 'YX', 'YY', 'YZ', 'ZI', 'ZX', 'ZY', 'ZZ']\n",
      "Weight sorted\n",
      "PauliTable: ['II', 'IX', 'IY', 'IZ', 'XI', 'YI', 'ZI', 'XX', 'XY', 'XZ', 'YX', 'YY', 'YZ', 'ZX', 'ZY', 'ZZ']\n"
     ]
    }
   ],
   "source": [
    "from numpy.random import shuffle\n",
    "from qiskit.quantum_info.operators import PauliTable\n",
    "\n",
    "# 2-qubit labels\n",
    "labels = ['II', 'IX', 'IY', 'IZ', 'XI', 'XX', 'XY', 'XZ',\n",
    "          'YI', 'YX', 'YY', 'YZ', 'ZI', 'ZX', 'ZY', 'ZZ']\n",
    "# Shuffle Labels\n",
    "shuffle(labels)\n",
    "pt = PauliTable.from_labels(labels)\n",
    "print('Initial Ordering')\n",
    "print(pt)\n",
    "\n",
    "# Lexicographic Ordering\n",
    "srt = pt.sort()\n",
    "print('Lexicographically sorted')\n",
    "print(srt)\n",
    "\n",
    "# Weight Ordering\n",
    "srt = pt.sort(weight=True)\n",
    "print('Weight sorted')\n",
    "print(srt)"
   ]
  },
  {
   "cell_type": "code",
   "execution_count": 5,
   "id": "expressed-fellow",
   "metadata": {
    "execution": {
     "iopub.execute_input": "2021-01-19T21:41:49.240178Z",
     "iopub.status.busy": "2021-01-19T21:41:49.238644Z",
     "iopub.status.idle": "2021-01-19T21:41:49.242056Z",
     "shell.execute_reply": "2021-01-19T21:41:49.241550Z"
    }
   },
   "outputs": [
    {
     "name": "stdout",
     "output_type": "stream",
     "text": [
      "PauliTable: ['IY', 'IZ', 'XY', 'XZ']\n"
     ]
    }
   ],
   "source": [
    "from qiskit.quantum_info.operators import PauliTable\n",
    "\n",
    "current = PauliTable.from_labels(['I', 'X'])\n",
    "other =  PauliTable.from_labels(['Y', 'Z'])\n",
    "print(current.tensor(other))"
   ]
  },
  {
   "cell_type": "code",
   "execution_count": 6,
   "id": "received-neighborhood",
   "metadata": {
    "execution": {
     "iopub.execute_input": "2021-01-19T21:41:49.248835Z",
     "iopub.status.busy": "2021-01-19T21:41:49.247232Z",
     "iopub.status.idle": "2021-01-19T21:41:49.250671Z",
     "shell.execute_reply": "2021-01-19T21:41:49.250117Z"
    }
   },
   "outputs": [
    {
     "name": "stdout",
     "output_type": "stream",
     "text": [
      "PauliTable: ['X', 'Y', 'I', 'Z']\n"
     ]
    }
   ],
   "source": [
    "from qiskit.quantum_info.operators import PauliTable\n",
    "\n",
    "pt = PauliTable.from_labels(['X', 'Y', 'X', 'I', 'I', 'Z', 'X', 'Z'])\n",
    "unique = pt.unique()\n",
    "print(unique)"
   ]
  }
 ],
 "metadata": {
  "kernelspec": {
   "display_name": "Python 3",
   "language": "python",
   "name": "python3"
  },
  "language_info": {
   "codemirror_mode": {
    "name": "ipython",
    "version": 3
   },
   "file_extension": ".py",
   "mimetype": "text/x-python",
   "name": "python",
   "nbconvert_exporter": "python",
   "pygments_lexer": "ipython3",
   "version": "3.8.7"
  }
 },
 "nbformat": 4,
 "nbformat_minor": 5
}