{
 "cells": [
  {
   "cell_type": "code",
   "execution_count": 1,
   "id": "dietary-rocket",
   "metadata": {
    "execution": {
     "iopub.execute_input": "2021-01-22T11:09:59.224700Z",
     "iopub.status.busy": "2021-01-22T11:09:59.224178Z",
     "iopub.status.idle": "2021-01-22T11:10:01.121862Z",
     "shell.execute_reply": "2021-01-22T11:10:01.122366Z"
    }
   },
   "outputs": [
    {
     "name": "stdout",
     "output_type": "stream",
     "text": [
      "StabilizerTable: ['+X', '-Z', '-I', '-Y']\n"
     ]
    }
   ],
   "source": [
    "from qiskit.quantum_info.operators import StabilizerTable\n",
    "\n",
    "current = StabilizerTable.from_labels(['+I', '-X'])\n",
    "other =  StabilizerTable.from_labels(['+X', '-Z'])\n",
    "print(current.compose(other))"
   ]
  },
  {
   "cell_type": "code",
   "execution_count": 2,
   "id": "horizontal-manual",
   "metadata": {
    "execution": {
     "iopub.execute_input": "2021-01-22T11:10:01.129454Z",
     "iopub.status.busy": "2021-01-22T11:10:01.128133Z",
     "iopub.status.idle": "2021-01-22T11:10:01.131212Z",
     "shell.execute_reply": "2021-01-22T11:10:01.130713Z"
    }
   },
   "outputs": [
    {
     "name": "stdout",
     "output_type": "stream",
     "text": [
      "StabilizerTable: ['+X', '-Z', '-I', '+Y']\n"
     ]
    }
   ],
   "source": [
    "from qiskit.quantum_info.operators import StabilizerTable\n",
    "\n",
    "current = StabilizerTable.from_labels(['+I', '-X'])\n",
    "other =  StabilizerTable.from_labels(['+X', '-Z'])\n",
    "print(current.dot(other))"
   ]
  },
  {
   "cell_type": "code",
   "execution_count": 3,
   "id": "casual-washer",
   "metadata": {
    "execution": {
     "iopub.execute_input": "2021-01-22T11:10:01.138955Z",
     "iopub.status.busy": "2021-01-22T11:10:01.137461Z",
     "iopub.status.idle": "2021-01-22T11:10:01.140709Z",
     "shell.execute_reply": "2021-01-22T11:10:01.140230Z"
    }
   },
   "outputs": [
    {
     "name": "stdout",
     "output_type": "stream",
     "text": [
      "StabilizerTable: ['-YI', '+ZI', '+YX', '-ZX']\n"
     ]
    }
   ],
   "source": [
    "from qiskit.quantum_info.operators import StabilizerTable\n",
    "\n",
    "current = StabilizerTable.from_labels(['+I', '-X'])\n",
    "other =  StabilizerTable.from_labels(['-Y', '+Z'])\n",
    "print(current.expand(other))"
   ]
  },
  {
   "cell_type": "code",
   "execution_count": 4,
   "id": "realistic-stability",
   "metadata": {
    "execution": {
     "iopub.execute_input": "2021-01-22T11:10:01.148285Z",
     "iopub.status.busy": "2021-01-22T11:10:01.147455Z",
     "iopub.status.idle": "2021-01-22T11:10:01.152921Z",
     "shell.execute_reply": "2021-01-22T11:10:01.152292Z"
    }
   },
   "outputs": [
    {
     "name": "stdout",
     "output_type": "stream",
     "text": [
      "Initial Ordering\n",
      "StabilizerTable: ['-IX', '-YY', '+ZZ', '-XY', '+YZ', '+XZ', '-XZ', '-ZZ', '+II', '-YI', '-ZI', '-ZX', '+XX', '+YY', '-IY', '+YX', '-XX', '+XY', '-YZ', '-IZ', '-YX', '+XI', '+IX', '+ZX', '+ZI', '+IY', '+YI', '+IZ', '-II', '-XI', '+ZY', '-ZY']\n",
      "Lexicographically sorted\n",
      "StabilizerTable: ['+II', '-II', '-IX', '+IX', '-IY', '+IY', '-IZ', '+IZ', '+XI', '-XI', '+XX', '-XX', '-XY', '+XY', '+XZ', '-XZ', '-YI', '+YI', '+YX', '-YX', '-YY', '+YY', '+YZ', '-YZ', '-ZI', '+ZI', '-ZX', '+ZX', '+ZY', '-ZY', '+ZZ', '-ZZ']\n",
      "Weight sorted\n",
      "StabilizerTable: ['+II', '-II', '-IX', '+IX', '-IY', '+IY', '-IZ', '+IZ', '+XI', '-XI', '-YI', '+YI', '-ZI', '+ZI', '+XX', '-XX', '-XY', '+XY', '+XZ', '-XZ', '+YX', '-YX', '-YY', '+YY', '+YZ', '-YZ', '-ZX', '+ZX', '+ZY', '-ZY', '+ZZ', '-ZZ']\n"
     ]
    }
   ],
   "source": [
    "from numpy.random import shuffle\n",
    "from qiskit.quantum_info.operators import StabilizerTable\n",
    "\n",
    "# 2-qubit labels\n",
    "labels = ['+II', '+IX', '+IY', '+IZ', '+XI', '+XX', '+XY', '+XZ',\n",
    "          '+YI', '+YX', '+YY', '+YZ', '+ZI', '+ZX', '+ZY', '+ZZ',\n",
    "          '-II', '-IX', '-IY', '-IZ', '-XI', '-XX', '-XY', '-XZ',\n",
    "          '-YI', '-YX', '-YY', '-YZ', '-ZI', '-ZX', '-ZY', '-ZZ']\n",
    "# Shuffle Labels\n",
    "shuffle(labels)\n",
    "st = StabilizerTable.from_labels(labels)\n",
    "print('Initial Ordering')\n",
    "print(st)\n",
    "\n",
    "# Lexicographic Ordering\n",
    "srt = st.sort()\n",
    "print('Lexicographically sorted')\n",
    "print(srt)\n",
    "\n",
    "# Weight Ordering\n",
    "srt = st.sort(weight=True)\n",
    "print('Weight sorted')\n",
    "print(srt)"
   ]
  },
  {
   "cell_type": "code",
   "execution_count": 5,
   "id": "amateur-clause",
   "metadata": {
    "execution": {
     "iopub.execute_input": "2021-01-22T11:10:01.158979Z",
     "iopub.status.busy": "2021-01-22T11:10:01.157562Z",
     "iopub.status.idle": "2021-01-22T11:10:01.160683Z",
     "shell.execute_reply": "2021-01-22T11:10:01.160186Z"
    }
   },
   "outputs": [
    {
     "name": "stdout",
     "output_type": "stream",
     "text": [
      "StabilizerTable: ['-IY', '+IZ', '+XY', '-XZ']\n"
     ]
    }
   ],
   "source": [
    "from qiskit.quantum_info.operators import StabilizerTable\n",
    "\n",
    "current = StabilizerTable.from_labels(['+I', '-X'])\n",
    "other =  StabilizerTable.from_labels(['-Y', '+Z'])\n",
    "print(current.tensor(other))"
   ]
  },
  {
   "cell_type": "code",
   "execution_count": 6,
   "id": "efficient-minimum",
   "metadata": {
    "execution": {
     "iopub.execute_input": "2021-01-22T11:10:01.167005Z",
     "iopub.status.busy": "2021-01-22T11:10:01.165590Z",
     "iopub.status.idle": "2021-01-22T11:10:01.169081Z",
     "shell.execute_reply": "2021-01-22T11:10:01.168593Z"
    }
   },
   "outputs": [
    {
     "name": "stdout",
     "output_type": "stream",
     "text": [
      "StabilizerTable: ['+X', '+I', '-I', '-X']\n"
     ]
    }
   ],
   "source": [
    "from qiskit.quantum_info.operators import StabilizerTable\n",
    "\n",
    "st = StabilizerTable.from_labels(['+X', '+I', '-I', '-X', '+X', '-X', '+I'])\n",
    "unique = st.unique()\n",
    "print(unique)"
   ]
  }
 ],
 "metadata": {
  "kernelspec": {
   "display_name": "Python 3",
   "language": "python",
   "name": "python3"
  },
  "language_info": {
   "codemirror_mode": {
    "name": "ipython",
    "version": 3
   },
   "file_extension": ".py",
   "mimetype": "text/x-python",
   "name": "python",
   "nbconvert_exporter": "python",
   "pygments_lexer": "ipython3",
   "version": "3.8.6"
  }
 },
 "nbformat": 4,
 "nbformat_minor": 5
}