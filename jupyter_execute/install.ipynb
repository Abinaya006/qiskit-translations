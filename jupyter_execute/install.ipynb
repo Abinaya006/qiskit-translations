{
 "cells": [
  {
   "cell_type": "code",
   "execution_count": 1,
   "id": "freelance-madonna",
   "metadata": {
    "execution": {
     "iopub.execute_input": "2021-01-22T09:56:57.451726Z",
     "iopub.status.busy": "2021-01-22T09:56:57.451225Z",
     "iopub.status.idle": "2021-01-22T09:56:59.285135Z",
     "shell.execute_reply": "2021-01-22T09:56:59.285587Z"
    }
   },
   "outputs": [
    {
     "data": {
      "text/plain": [
       "'0.16.1'"
      ]
     },
     "execution_count": 1,
     "metadata": {},
     "output_type": "execute_result"
    }
   ],
   "source": [
    "import qiskit\n",
    "qiskit.__version__"
   ]
  },
  {
   "cell_type": "code",
   "execution_count": 2,
   "id": "nonprofit-concentrate",
   "metadata": {
    "execution": {
     "iopub.execute_input": "2021-01-22T09:56:59.291191Z",
     "iopub.status.busy": "2021-01-22T09:56:59.290269Z",
     "iopub.status.idle": "2021-01-22T09:56:59.293227Z",
     "shell.execute_reply": "2021-01-22T09:56:59.292794Z"
    }
   },
   "outputs": [
    {
     "data": {
      "text/plain": [
       "{'qiskit-terra': '0.16.1',\n",
       " 'qiskit-aer': '0.7.2',\n",
       " 'qiskit-ignis': '0.5.1',\n",
       " 'qiskit-ibmq-provider': '0.11.1',\n",
       " 'qiskit-aqua': '0.8.1',\n",
       " 'qiskit': '0.23.2'}"
      ]
     },
     "execution_count": 2,
     "metadata": {},
     "output_type": "execute_result"
    }
   ],
   "source": [
    "qiskit.__qiskit_version__"
   ]
  }
 ],
 "metadata": {
  "kernelspec": {
   "display_name": "Python 3",
   "language": "python",
   "name": "python3"
  },
  "language_info": {
   "codemirror_mode": {
    "name": "ipython",
    "version": 3
   },
   "file_extension": ".py",
   "mimetype": "text/x-python",
   "name": "python",
   "nbconvert_exporter": "python",
   "pygments_lexer": "ipython3",
   "version": "3.8.6"
  }
 },
 "nbformat": 4,
 "nbformat_minor": 5
}