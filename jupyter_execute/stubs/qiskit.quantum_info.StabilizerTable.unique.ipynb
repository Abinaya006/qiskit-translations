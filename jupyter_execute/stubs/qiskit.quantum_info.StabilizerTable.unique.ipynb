{
 "cells": [
  {
   "cell_type": "code",
   "execution_count": 1,
   "metadata": {
    "execution": {
     "iopub.execute_input": "2020-10-30T21:41:41.326921Z",
     "iopub.status.busy": "2020-10-30T21:41:41.326393Z",
     "iopub.status.idle": "2020-10-30T21:41:43.303515Z",
     "shell.execute_reply": "2020-10-30T21:41:43.302835Z"
    }
   },
   "outputs": [
    {
     "name": "stdout",
     "output_type": "stream",
     "text": [
      "StabilizerTable: ['+X', '+I', '-I', '-X']\n"
     ]
    }
   ],
   "source": [
    "from qiskit.quantum_info.operators import StabilizerTable\n",
    "\n",
    "st = StabilizerTable.from_labels(['+X', '+I', '-I', '-X', '+X', '-X', '+I'])\n",
    "unique = st.unique()\n",
    "print(unique)"
   ]
  }
 ],
 "metadata": {
  "kernelspec": {
   "display_name": "Python 3",
   "language": "python",
   "name": "python3"
  },
  "language_info": {
   "codemirror_mode": {
    "name": "ipython",
    "version": 3
   },
   "file_extension": ".py",
   "mimetype": "text/x-python",
   "name": "python",
   "nbconvert_exporter": "python",
   "pygments_lexer": "ipython3",
   "version": "3.8.6"
  }
 },
 "nbformat": 4,
 "nbformat_minor": 4
}