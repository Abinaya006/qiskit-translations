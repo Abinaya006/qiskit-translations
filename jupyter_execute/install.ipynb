{
 "cells": [
  {
   "cell_type": "code",
   "execution_count": 1,
   "metadata": {
    "execution": {
     "iopub.execute_input": "2020-10-13T16:42:13.026077Z",
     "iopub.status.busy": "2020-10-13T16:42:13.025389Z",
     "iopub.status.idle": "2020-10-13T16:42:14.874963Z",
     "shell.execute_reply": "2020-10-13T16:42:14.874004Z"
    }
   },
   "outputs": [
    {
     "data": {
      "text/plain": [
       "'0.15.2'"
      ]
     },
     "execution_count": 1,
     "metadata": {},
     "output_type": "execute_result"
    }
   ],
   "source": [
    "import qiskit\n",
    "qiskit.__version__"
   ]
  },
  {
   "cell_type": "code",
   "execution_count": 2,
   "metadata": {
    "execution": {
     "iopub.execute_input": "2020-10-13T16:42:14.880127Z",
     "iopub.status.busy": "2020-10-13T16:42:14.879543Z",
     "iopub.status.idle": "2020-10-13T16:42:14.884372Z",
     "shell.execute_reply": "2020-10-13T16:42:14.884869Z"
    }
   },
   "outputs": [
    {
     "data": {
      "text/plain": [
       "{'qiskit-terra': '0.15.2',\n",
       " 'qiskit-aer': '0.6.1',\n",
       " 'qiskit-ignis': '0.4.0',\n",
       " 'qiskit-ibmq-provider': '0.10.0',\n",
       " 'qiskit-aqua': '0.7.5',\n",
       " 'qiskit': '0.22.0'}"
      ]
     },
     "execution_count": 2,
     "metadata": {},
     "output_type": "execute_result"
    }
   ],
   "source": [
    "qiskit.__qiskit_version__"
   ]
  }
 ],
 "metadata": {
  "kernelspec": {
   "display_name": "Python 3",
   "language": "python",
   "name": "python3"
  },
  "language_info": {
   "codemirror_mode": {
    "name": "ipython",
    "version": 3
   },
   "file_extension": ".py",
   "mimetype": "text/x-python",
   "name": "python",
   "nbconvert_exporter": "python",
   "pygments_lexer": "ipython3",
   "version": "3.8.6"
  }
 },
 "nbformat": 4,
 "nbformat_minor": 4
}