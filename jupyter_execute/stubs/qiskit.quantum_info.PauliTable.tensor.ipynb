{
 "cells": [
  {
   "cell_type": "code",
   "execution_count": 1,
   "metadata": {
    "execution": {
     "iopub.execute_input": "2020-11-03T19:13:41.292787Z",
     "iopub.status.busy": "2020-11-03T19:13:41.292251Z",
     "iopub.status.idle": "2020-11-03T19:13:43.116502Z",
     "shell.execute_reply": "2020-11-03T19:13:43.115949Z"
    }
   },
   "outputs": [
    {
     "name": "stdout",
     "output_type": "stream",
     "text": [
      "PauliTable: ['IY', 'IZ', 'XY', 'XZ']\n"
     ]
    }
   ],
   "source": [
    "from qiskit.quantum_info.operators import PauliTable\n",
    "\n",
    "current = PauliTable.from_labels(['I', 'X'])\n",
    "other =  PauliTable.from_labels(['Y', 'Z'])\n",
    "print(current.tensor(other))"
   ]
  }
 ],
 "metadata": {
  "kernelspec": {
   "display_name": "Python 3",
   "language": "python",
   "name": "python3"
  },
  "language_info": {
   "codemirror_mode": {
    "name": "ipython",
    "version": 3
   },
   "file_extension": ".py",
   "mimetype": "text/x-python",
   "name": "python",
   "nbconvert_exporter": "python",
   "pygments_lexer": "ipython3",
   "version": "3.8.6"
  }
 },
 "nbformat": 4,
 "nbformat_minor": 4
}