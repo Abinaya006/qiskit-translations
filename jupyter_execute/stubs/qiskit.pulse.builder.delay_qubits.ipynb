{
 "cells": [
  {
   "cell_type": "code",
   "execution_count": 1,
   "id": "protected-australian",
   "metadata": {
    "execution": {
     "iopub.execute_input": "2021-01-21T15:52:27.872608Z",
     "iopub.status.busy": "2021-01-21T15:52:27.871854Z",
     "iopub.status.idle": "2021-01-21T15:52:29.830953Z",
     "shell.execute_reply": "2021-01-21T15:52:29.830358Z"
    }
   },
   "outputs": [],
   "source": [
    "from qiskit import pulse\n",
    "from qiskit.test.mock import FakeOpenPulse3Q\n",
    "\n",
    "backend = FakeOpenPulse3Q()\n",
    "\n",
    "with pulse.build(backend) as pulse_prog:\n",
    "    # Delay for 100 cycles on qubits 0, 1 and 2.\n",
    "    regs = pulse.delay_qubits(100, 0, 1, 2)"
   ]
  }
 ],
 "metadata": {
  "kernelspec": {
   "display_name": "Python 3",
   "language": "python",
   "name": "python3"
  },
  "language_info": {
   "codemirror_mode": {
    "name": "ipython",
    "version": 3
   },
   "file_extension": ".py",
   "mimetype": "text/x-python",
   "name": "python",
   "nbconvert_exporter": "python",
   "pygments_lexer": "ipython3",
   "version": "3.8.6"
  }
 },
 "nbformat": 4,
 "nbformat_minor": 5
}