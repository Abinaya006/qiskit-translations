{
 "cells": [
  {
   "cell_type": "code",
   "execution_count": 1,
   "id": "friendly-click",
   "metadata": {
    "execution": {
     "iopub.execute_input": "2021-01-19T01:27:39.578983Z",
     "iopub.status.busy": "2021-01-19T01:27:39.578384Z",
     "iopub.status.idle": "2021-01-19T01:27:41.618179Z",
     "shell.execute_reply": "2021-01-19T01:27:41.617604Z"
    }
   },
   "outputs": [
    {
     "data": {
      "text/plain": [
       "'0.16.1'"
      ]
     },
     "execution_count": 1,
     "metadata": {},
     "output_type": "execute_result"
    }
   ],
   "source": [
    "import qiskit\n",
    "qiskit.__version__"
   ]
  },
  {
   "cell_type": "code",
   "execution_count": 2,
   "id": "nonprofit-madison",
   "metadata": {
    "execution": {
     "iopub.execute_input": "2021-01-19T01:27:41.624042Z",
     "iopub.status.busy": "2021-01-19T01:27:41.622950Z",
     "iopub.status.idle": "2021-01-19T01:27:41.626457Z",
     "shell.execute_reply": "2021-01-19T01:27:41.625944Z"
    }
   },
   "outputs": [
    {
     "data": {
      "text/plain": [
       "{'qiskit-terra': '0.16.1',\n",
       " 'qiskit-aer': '0.7.2',\n",
       " 'qiskit-ignis': '0.5.1',\n",
       " 'qiskit-ibmq-provider': '0.11.1',\n",
       " 'qiskit-aqua': '0.8.1',\n",
       " 'qiskit': '0.23.2'}"
      ]
     },
     "execution_count": 2,
     "metadata": {},
     "output_type": "execute_result"
    }
   ],
   "source": [
    "qiskit.__qiskit_version__"
   ]
  }
 ],
 "metadata": {
  "kernelspec": {
   "display_name": "Python 3",
   "language": "python",
   "name": "python3"
  },
  "language_info": {
   "codemirror_mode": {
    "name": "ipython",
    "version": 3
   },
   "file_extension": ".py",
   "mimetype": "text/x-python",
   "name": "python",
   "nbconvert_exporter": "python",
   "pygments_lexer": "ipython3",
   "version": "3.8.7"
  }
 },
 "nbformat": 4,
 "nbformat_minor": 5
}