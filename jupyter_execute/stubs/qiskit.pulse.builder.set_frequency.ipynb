{
 "cells": [
  {
   "cell_type": "code",
   "execution_count": 1,
   "id": "improved-thinking",
   "metadata": {
    "execution": {
     "iopub.execute_input": "2021-01-21T21:06:53.919980Z",
     "iopub.status.busy": "2021-01-21T21:06:53.919294Z",
     "iopub.status.idle": "2021-01-21T21:06:56.109540Z",
     "shell.execute_reply": "2021-01-21T21:06:56.110320Z"
    }
   },
   "outputs": [],
   "source": [
    "from qiskit import pulse\n",
    "\n",
    "d0 = pulse.DriveChannel(0)\n",
    "\n",
    "with pulse.build() as pulse_prog:\n",
    "    pulse.set_frequency(1e9, d0)"
   ]
  }
 ],
 "metadata": {
  "kernelspec": {
   "display_name": "Python 3",
   "language": "python",
   "name": "python3"
  },
  "language_info": {
   "codemirror_mode": {
    "name": "ipython",
    "version": 3
   },
   "file_extension": ".py",
   "mimetype": "text/x-python",
   "name": "python",
   "nbconvert_exporter": "python",
   "pygments_lexer": "ipython3",
   "version": "3.8.6"
  }
 },
 "nbformat": 4,
 "nbformat_minor": 5
}