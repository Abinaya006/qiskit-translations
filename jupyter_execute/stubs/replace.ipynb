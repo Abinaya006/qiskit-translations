{
 "cells": [
  {
   "cell_type": "code",
   "execution_count": 1,
   "metadata": {
    "execution": {
     "iopub.execute_input": "2020-11-03T14:13:40.774325Z",
     "iopub.status.busy": "2020-11-03T14:13:40.773795Z",
     "iopub.status.idle": "2020-11-03T14:13:42.531690Z",
     "shell.execute_reply": "2020-11-03T14:13:42.530688Z"
    }
   },
   "outputs": [],
   "source": [
    "from qiskit import pulse\n",
    "\n",
    "d0 = pulse.DriveChannel(0)\n",
    "\n",
    "sched = pulse.Schedule()\n",
    "\n",
    "old = pulse.Play(pulse.Constant(100, 1.0), d0)\n",
    "new = pulse.Play(pulse.Constant(100, 0.1), d0)\n",
    "\n",
    "sched += old\n",
    "\n",
    "sched = sched.replace(old, new)\n",
    "\n",
    "assert sched == pulse.Schedule(new)"
   ]
  }
 ],
 "metadata": {
  "kernelspec": {
   "display_name": "Python 3",
   "language": "python",
   "name": "python3"
  },
  "language_info": {
   "codemirror_mode": {
    "name": "ipython",
    "version": 3
   },
   "file_extension": ".py",
   "mimetype": "text/x-python",
   "name": "python",
   "nbconvert_exporter": "python",
   "pygments_lexer": "ipython3",
   "version": "3.8.6"
  }
 },
 "nbformat": 4,
 "nbformat_minor": 4
}