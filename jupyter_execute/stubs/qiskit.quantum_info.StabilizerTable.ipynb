{
 "cells": [
  {
   "cell_type": "code",
   "execution_count": 1,
   "id": "flying-notebook",
   "metadata": {
    "execution": {
     "iopub.execute_input": "2021-01-19T01:38:09.167046Z",
     "iopub.status.busy": "2021-01-19T01:38:09.166482Z",
     "iopub.status.idle": "2021-01-19T01:38:11.155417Z",
     "shell.execute_reply": "2021-01-19T01:38:11.156033Z"
    }
   },
   "outputs": [
    {
     "name": "stdout",
     "output_type": "stream",
     "text": [
      "StabilizerTable: ['+X', '-Z', '-I', '-Y']\n"
     ]
    }
   ],
   "source": [
    "from qiskit.quantum_info.operators import StabilizerTable\n",
    "\n",
    "current = StabilizerTable.from_labels(['+I', '-X'])\n",
    "other =  StabilizerTable.from_labels(['+X', '-Z'])\n",
    "print(current.compose(other))"
   ]
  },
  {
   "cell_type": "code",
   "execution_count": 2,
   "id": "egyptian-advancement",
   "metadata": {
    "execution": {
     "iopub.execute_input": "2021-01-19T01:38:11.163537Z",
     "iopub.status.busy": "2021-01-19T01:38:11.162028Z",
     "iopub.status.idle": "2021-01-19T01:38:11.165640Z",
     "shell.execute_reply": "2021-01-19T01:38:11.165076Z"
    }
   },
   "outputs": [
    {
     "name": "stdout",
     "output_type": "stream",
     "text": [
      "StabilizerTable: ['+X', '-Z', '-I', '+Y']\n"
     ]
    }
   ],
   "source": [
    "from qiskit.quantum_info.operators import StabilizerTable\n",
    "\n",
    "current = StabilizerTable.from_labels(['+I', '-X'])\n",
    "other =  StabilizerTable.from_labels(['+X', '-Z'])\n",
    "print(current.dot(other))"
   ]
  },
  {
   "cell_type": "code",
   "execution_count": 3,
   "id": "accessible-noise",
   "metadata": {
    "execution": {
     "iopub.execute_input": "2021-01-19T01:38:11.172045Z",
     "iopub.status.busy": "2021-01-19T01:38:11.170542Z",
     "iopub.status.idle": "2021-01-19T01:38:11.173821Z",
     "shell.execute_reply": "2021-01-19T01:38:11.173294Z"
    }
   },
   "outputs": [
    {
     "name": "stdout",
     "output_type": "stream",
     "text": [
      "StabilizerTable: ['-YI', '+ZI', '+YX', '-ZX']\n"
     ]
    }
   ],
   "source": [
    "from qiskit.quantum_info.operators import StabilizerTable\n",
    "\n",
    "current = StabilizerTable.from_labels(['+I', '-X'])\n",
    "other =  StabilizerTable.from_labels(['-Y', '+Z'])\n",
    "print(current.expand(other))"
   ]
  },
  {
   "cell_type": "code",
   "execution_count": 4,
   "id": "boxed-suspension",
   "metadata": {
    "execution": {
     "iopub.execute_input": "2021-01-19T01:38:11.187372Z",
     "iopub.status.busy": "2021-01-19T01:38:11.186009Z",
     "iopub.status.idle": "2021-01-19T01:38:11.189066Z",
     "shell.execute_reply": "2021-01-19T01:38:11.188605Z"
    }
   },
   "outputs": [
    {
     "name": "stdout",
     "output_type": "stream",
     "text": [
      "Initial Ordering\n",
      "StabilizerTable: ['-YX', '+XZ', '-XI', '+ZX', '+II', '+IY', '-IX', '-ZZ', '+IX', '+ZI', '-IY', '-II', '-IZ', '+XY', '-ZX', '-ZY', '+IZ', '-XY', '-ZI', '-YY', '-XX', '+YI', '-YZ', '+YZ', '+ZY', '-XZ', '+ZZ', '-YI', '+XX', '+YX', '+YY', '+XI']\n",
      "Lexicographically sorted\n",
      "StabilizerTable: ['+II', '-II', '-IX', '+IX', '+IY', '-IY', '-IZ', '+IZ', '-XI', '+XI', '-XX', '+XX', '+XY', '-XY', '+XZ', '-XZ', '+YI', '-YI', '-YX', '+YX', '-YY', '+YY', '-YZ', '+YZ', '+ZI', '-ZI', '+ZX', '-ZX', '-ZY', '+ZY', '-ZZ', '+ZZ']\n",
      "Weight sorted\n",
      "StabilizerTable: ['+II', '-II', '-IX', '+IX', '+IY', '-IY', '-IZ', '+IZ', '-XI', '+XI', '+YI', '-YI', '+ZI', '-ZI', '-XX', '+XX', '+XY', '-XY', '+XZ', '-XZ', '-YX', '+YX', '-YY', '+YY', '-YZ', '+YZ', '+ZX', '-ZX', '-ZY', '+ZY', '-ZZ', '+ZZ']\n"
     ]
    }
   ],
   "source": [
    "from numpy.random import shuffle\n",
    "from qiskit.quantum_info.operators import StabilizerTable\n",
    "\n",
    "# 2-qubit labels\n",
    "labels = ['+II', '+IX', '+IY', '+IZ', '+XI', '+XX', '+XY', '+XZ',\n",
    "          '+YI', '+YX', '+YY', '+YZ', '+ZI', '+ZX', '+ZY', '+ZZ',\n",
    "          '-II', '-IX', '-IY', '-IZ', '-XI', '-XX', '-XY', '-XZ',\n",
    "          '-YI', '-YX', '-YY', '-YZ', '-ZI', '-ZX', '-ZY', '-ZZ']\n",
    "# Shuffle Labels\n",
    "shuffle(labels)\n",
    "st = StabilizerTable.from_labels(labels)\n",
    "print('Initial Ordering')\n",
    "print(st)\n",
    "\n",
    "# Lexicographic Ordering\n",
    "srt = st.sort()\n",
    "print('Lexicographically sorted')\n",
    "print(srt)\n",
    "\n",
    "# Weight Ordering\n",
    "srt = st.sort(weight=True)\n",
    "print('Weight sorted')\n",
    "print(srt)"
   ]
  },
  {
   "cell_type": "code",
   "execution_count": 5,
   "id": "champion-graph",
   "metadata": {
    "execution": {
     "iopub.execute_input": "2021-01-19T01:38:11.196930Z",
     "iopub.status.busy": "2021-01-19T01:38:11.195476Z",
     "iopub.status.idle": "2021-01-19T01:38:11.198856Z",
     "shell.execute_reply": "2021-01-19T01:38:11.198335Z"
    }
   },
   "outputs": [
    {
     "name": "stdout",
     "output_type": "stream",
     "text": [
      "StabilizerTable: ['-IY', '+IZ', '+XY', '-XZ']\n"
     ]
    }
   ],
   "source": [
    "from qiskit.quantum_info.operators import StabilizerTable\n",
    "\n",
    "current = StabilizerTable.from_labels(['+I', '-X'])\n",
    "other =  StabilizerTable.from_labels(['-Y', '+Z'])\n",
    "print(current.tensor(other))"
   ]
  },
  {
   "cell_type": "code",
   "execution_count": 6,
   "id": "latter-stationery",
   "metadata": {
    "execution": {
     "iopub.execute_input": "2021-01-19T01:38:11.205930Z",
     "iopub.status.busy": "2021-01-19T01:38:11.204480Z",
     "iopub.status.idle": "2021-01-19T01:38:11.208663Z",
     "shell.execute_reply": "2021-01-19T01:38:11.208133Z"
    }
   },
   "outputs": [
    {
     "name": "stdout",
     "output_type": "stream",
     "text": [
      "StabilizerTable: ['+X', '+I', '-I', '-X']\n"
     ]
    }
   ],
   "source": [
    "from qiskit.quantum_info.operators import StabilizerTable\n",
    "\n",
    "st = StabilizerTable.from_labels(['+X', '+I', '-I', '-X', '+X', '-X', '+I'])\n",
    "unique = st.unique()\n",
    "print(unique)"
   ]
  }
 ],
 "metadata": {
  "kernelspec": {
   "display_name": "Python 3",
   "language": "python",
   "name": "python3"
  },
  "language_info": {
   "codemirror_mode": {
    "name": "ipython",
    "version": 3
   },
   "file_extension": ".py",
   "mimetype": "text/x-python",
   "name": "python",
   "nbconvert_exporter": "python",
   "pygments_lexer": "ipython3",
   "version": "3.8.7"
  }
 },
 "nbformat": 4,
 "nbformat_minor": 5
}