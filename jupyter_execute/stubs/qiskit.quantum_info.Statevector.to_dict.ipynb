{
 "cells": [
  {
   "cell_type": "code",
   "execution_count": 1,
   "metadata": {
    "execution": {
     "iopub.execute_input": "2020-11-02T15:36:33.861543Z",
     "iopub.status.busy": "2020-11-02T15:36:33.860932Z",
     "iopub.status.idle": "2020-11-02T15:36:35.670477Z",
     "shell.execute_reply": "2020-11-02T15:36:35.669918Z"
    }
   },
   "outputs": [
    {
     "name": "stdout",
     "output_type": "stream",
     "text": [
      "{'00': (0.7071067811865475+0j), '10': (-0.7071067811865475+0j)}\n"
     ]
    }
   ],
   "source": [
    "from qiskit.quantum_info import Statevector\n",
    "\n",
    "psi = Statevector.from_label('-0')\n",
    "print(psi.to_dict())"
   ]
  },
  {
   "cell_type": "code",
   "execution_count": 2,
   "metadata": {
    "execution": {
     "iopub.execute_input": "2020-11-02T15:36:35.676245Z",
     "iopub.status.busy": "2020-11-02T15:36:35.675667Z",
     "iopub.status.idle": "2020-11-02T15:36:35.679062Z",
     "shell.execute_reply": "2020-11-02T15:36:35.678607Z"
    }
   },
   "outputs": [
    {
     "name": "stdout",
     "output_type": "stream",
     "text": [
      "{'00': (0.7071067811865475+0j), '22': (0.7071067811865475+0j)}\n"
     ]
    }
   ],
   "source": [
    "import numpy as np\n",
    "from qiskit.quantum_info import Statevector\n",
    "\n",
    "vec = np.zeros(9)\n",
    "vec[0] = 1 / np.sqrt(2)\n",
    "vec[-1] = 1 / np.sqrt(2)\n",
    "psi = Statevector(vec, dims=(3, 3))\n",
    "print(psi.to_dict())"
   ]
  },
  {
   "cell_type": "code",
   "execution_count": 3,
   "metadata": {
    "execution": {
     "iopub.execute_input": "2020-11-02T15:36:35.685301Z",
     "iopub.status.busy": "2020-11-02T15:36:35.684050Z",
     "iopub.status.idle": "2020-11-02T15:36:35.687136Z",
     "shell.execute_reply": "2020-11-02T15:36:35.686645Z"
    }
   },
   "outputs": [
    {
     "name": "stdout",
     "output_type": "stream",
     "text": [
      "{'00': (0.7071067811865475+0j), '91': (0.7071067811865475+0j)}\n"
     ]
    }
   ],
   "source": [
    "import numpy as np\n",
    "from qiskit.quantum_info import Statevector\n",
    "\n",
    "vec = np.zeros(2 * 10)\n",
    "vec[0] = 1 / np.sqrt(2)\n",
    "vec[-1] = 1 / np.sqrt(2)\n",
    "psi = Statevector(vec, dims=(2, 10))\n",
    "print(psi.to_dict())"
   ]
  }
 ],
 "metadata": {
  "kernelspec": {
   "display_name": "Python 3",
   "language": "python",
   "name": "python3"
  },
  "language_info": {
   "codemirror_mode": {
    "name": "ipython",
    "version": 3
   },
   "file_extension": ".py",
   "mimetype": "text/x-python",
   "name": "python",
   "nbconvert_exporter": "python",
   "pygments_lexer": "ipython3",
   "version": "3.8.6"
  }
 },
 "nbformat": 4,
 "nbformat_minor": 4
}