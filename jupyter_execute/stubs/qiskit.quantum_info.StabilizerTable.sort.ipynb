{
 "cells": [
  {
   "cell_type": "code",
   "execution_count": 1,
   "metadata": {
    "execution": {
     "iopub.execute_input": "2020-10-24T07:09:25.804082Z",
     "iopub.status.busy": "2020-10-24T07:09:25.803428Z",
     "iopub.status.idle": "2020-10-24T07:09:27.325372Z",
     "shell.execute_reply": "2020-10-24T07:09:27.324778Z"
    }
   },
   "outputs": [
    {
     "name": "stdout",
     "output_type": "stream",
     "text": [
      "Initial Ordering\n",
      "StabilizerTable: ['-XI', '+YX', '-ZI', '-YY', '-ZY', '+ZI', '-YX', '+XI', '-IY', '+IY', '+YI', '-ZX', '-IX', '-ZZ', '+YY', '-II', '+IZ', '-YZ', '+XZ', '+YZ', '-IZ', '-XX', '-YI', '+II', '-XZ', '+ZZ', '+ZY', '-XY', '+ZX', '+IX', '+XY', '+XX']\n",
      "Lexicographically sorted\n",
      "StabilizerTable: ['-II', '+II', '-IX', '+IX', '-IY', '+IY', '+IZ', '-IZ', '-XI', '+XI', '-XX', '+XX', '-XY', '+XY', '+XZ', '-XZ', '+YI', '-YI', '+YX', '-YX', '-YY', '+YY', '-YZ', '+YZ', '-ZI', '+ZI', '-ZX', '+ZX', '-ZY', '+ZY', '-ZZ', '+ZZ']\n",
      "Weight sorted\n",
      "StabilizerTable: ['-II', '+II', '-IX', '+IX', '-IY', '+IY', '+IZ', '-IZ', '-XI', '+XI', '+YI', '-YI', '-ZI', '+ZI', '-XX', '+XX', '-XY', '+XY', '+XZ', '-XZ', '+YX', '-YX', '-YY', '+YY', '-YZ', '+YZ', '-ZX', '+ZX', '-ZY', '+ZY', '-ZZ', '+ZZ']\n"
     ]
    }
   ],
   "source": [
    "from numpy.random import shuffle\n",
    "from qiskit.quantum_info.operators import StabilizerTable\n",
    "\n",
    "# 2-qubit labels\n",
    "labels = ['+II', '+IX', '+IY', '+IZ', '+XI', '+XX', '+XY', '+XZ',\n",
    "          '+YI', '+YX', '+YY', '+YZ', '+ZI', '+ZX', '+ZY', '+ZZ',\n",
    "          '-II', '-IX', '-IY', '-IZ', '-XI', '-XX', '-XY', '-XZ',\n",
    "          '-YI', '-YX', '-YY', '-YZ', '-ZI', '-ZX', '-ZY', '-ZZ']\n",
    "# Shuffle Labels\n",
    "shuffle(labels)\n",
    "st = StabilizerTable.from_labels(labels)\n",
    "print('Initial Ordering')\n",
    "print(st)\n",
    "\n",
    "# Lexicographic Ordering\n",
    "srt = st.sort()\n",
    "print('Lexicographically sorted')\n",
    "print(srt)\n",
    "\n",
    "# Weight Ordering\n",
    "srt = st.sort(weight=True)\n",
    "print('Weight sorted')\n",
    "print(srt)"
   ]
  }
 ],
 "metadata": {
  "kernelspec": {
   "display_name": "Python 3",
   "language": "python",
   "name": "python3"
  },
  "language_info": {
   "codemirror_mode": {
    "name": "ipython",
    "version": 3
   },
   "file_extension": ".py",
   "mimetype": "text/x-python",
   "name": "python",
   "nbconvert_exporter": "python",
   "pygments_lexer": "ipython3",
   "version": "3.8.6"
  }
 },
 "nbformat": 4,
 "nbformat_minor": 4
}