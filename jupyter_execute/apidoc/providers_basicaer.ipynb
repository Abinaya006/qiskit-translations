{
 "cells": [
  {
   "cell_type": "code",
   "execution_count": 1,
   "metadata": {
    "execution": {
     "iopub.execute_input": "2020-10-13T16:41:28.818492Z",
     "iopub.status.busy": "2020-10-13T16:41:28.817861Z",
     "iopub.status.idle": "2020-10-13T16:41:30.613150Z",
     "shell.execute_reply": "2020-10-13T16:41:30.613659Z"
    }
   },
   "outputs": [],
   "source": [
    "from qiskit import BasicAer\n",
    "\n",
    "backend = BasicAer.get_backend('qasm_simulator')"
   ]
  }
 ],
 "metadata": {
  "kernelspec": {
   "display_name": "Python 3",
   "language": "python",
   "name": "python3"
  },
  "language_info": {
   "codemirror_mode": {
    "name": "ipython",
    "version": 3
   },
   "file_extension": ".py",
   "mimetype": "text/x-python",
   "name": "python",
   "nbconvert_exporter": "python",
   "pygments_lexer": "ipython3",
   "version": "3.8.6"
  }
 },
 "nbformat": 4,
 "nbformat_minor": 4
}