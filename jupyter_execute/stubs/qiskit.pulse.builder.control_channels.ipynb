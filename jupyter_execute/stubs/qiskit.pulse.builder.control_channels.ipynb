{
 "cells": [
  {
   "cell_type": "code",
   "execution_count": 1,
   "metadata": {
    "execution": {
     "iopub.execute_input": "2020-10-23T19:19:17.868579Z",
     "iopub.status.busy": "2020-10-23T19:19:17.867983Z",
     "iopub.status.idle": "2020-10-23T19:19:19.898967Z",
     "shell.execute_reply": "2020-10-23T19:19:19.898044Z"
    }
   },
   "outputs": [],
   "source": [
    "from qiskit import pulse\n",
    "from qiskit.test.mock import FakeOpenPulse2Q\n",
    "\n",
    "backend = FakeOpenPulse2Q()\n",
    "with pulse.build(backend):\n",
    "    assert pulse.control_channels(0, 1) == [pulse.ControlChannel(0)]"
   ]
  }
 ],
 "metadata": {
  "kernelspec": {
   "display_name": "Python 3",
   "language": "python",
   "name": "python3"
  },
  "language_info": {
   "codemirror_mode": {
    "name": "ipython",
    "version": 3
   },
   "file_extension": ".py",
   "mimetype": "text/x-python",
   "name": "python",
   "nbconvert_exporter": "python",
   "pygments_lexer": "ipython3",
   "version": "3.8.6"
  }
 },
 "nbformat": 4,
 "nbformat_minor": 4
}