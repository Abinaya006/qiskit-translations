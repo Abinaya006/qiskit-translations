{
 "cells": [
  {
   "cell_type": "code",
   "execution_count": 1,
   "metadata": {
    "execution": {
     "iopub.execute_input": "2020-12-09T21:34:15.368035Z",
     "iopub.status.busy": "2020-12-09T21:34:15.367501Z",
     "iopub.status.idle": "2020-12-09T21:34:16.972929Z",
     "shell.execute_reply": "2020-12-09T21:34:16.973422Z"
    }
   },
   "outputs": [],
   "source": [
    "from qiskit import *"
   ]
  },
  {
   "cell_type": "code",
   "execution_count": 2,
   "metadata": {
    "execution": {
     "iopub.execute_input": "2020-12-09T21:34:16.982139Z",
     "iopub.status.busy": "2020-12-09T21:34:16.981641Z",
     "iopub.status.idle": "2020-12-09T21:34:16.984134Z",
     "shell.execute_reply": "2020-12-09T21:34:16.984521Z"
    }
   },
   "outputs": [
    {
     "data": {
      "text/plain": [
       "<qiskit.circuit.instructionset.InstructionSet at 0x7f24bf4bf3a0>"
      ]
     },
     "execution_count": 2,
     "metadata": {},
     "output_type": "execute_result"
    }
   ],
   "source": [
    "qr = QuantumRegister(3, 'q')\n",
    "cr = ClassicalRegister(2, 'zx_meas')\n",
    "qc = QuantumCircuit(qr,cr)\n",
    "qc.reset(range(3))\n",
    "qc.barrier()\n",
    "qc.h(1)\n",
    "qc.cx([1,0],[2,1])\n",
    "qc.h(0)\n",
    "qc.barrier()\n",
    "qc.measure([0,1], [0,1])\n",
    "qc.barrier()\n",
    "qc.z(2).c_if(cr, 1)\n",
    "qc.x(2).c_if(cr, 2)"
   ]
  }
 ],
 "metadata": {
  "kernelspec": {
   "display_name": "Python 3",
   "language": "python",
   "name": "python3"
  },
  "language_info": {
   "codemirror_mode": {
    "name": "ipython",
    "version": 3
   },
   "file_extension": ".py",
   "mimetype": "text/x-python",
   "name": "python",
   "nbconvert_exporter": "python",
   "pygments_lexer": "ipython3",
   "version": "3.8.6"
  }
 },
 "nbformat": 4,
 "nbformat_minor": 4
}