{
 "cells": [
  {
   "cell_type": "code",
   "execution_count": 1,
   "id": "sticky-anniversary",
   "metadata": {
    "execution": {
     "iopub.execute_input": "2021-01-18T19:39:14.739735Z",
     "iopub.status.busy": "2021-01-18T19:39:14.739234Z",
     "iopub.status.idle": "2021-01-18T19:39:16.564483Z",
     "shell.execute_reply": "2021-01-18T19:39:16.564882Z"
    }
   },
   "outputs": [],
   "source": [
    "from qiskit import pulse\n",
    "from qiskit.test.mock import FakeOpenPulse2Q\n",
    "\n",
    "backend = FakeOpenPulse2Q()\n",
    "\n",
    "with pulse.build(backend) as pulse_prog:\n",
    "    pulse.x(0)"
   ]
  }
 ],
 "metadata": {
  "kernelspec": {
   "display_name": "Python 3",
   "language": "python",
   "name": "python3"
  },
  "language_info": {
   "codemirror_mode": {
    "name": "ipython",
    "version": 3
   },
   "file_extension": ".py",
   "mimetype": "text/x-python",
   "name": "python",
   "nbconvert_exporter": "python",
   "pygments_lexer": "ipython3",
   "version": "3.8.7"
  }
 },
 "nbformat": 4,
 "nbformat_minor": 5
}