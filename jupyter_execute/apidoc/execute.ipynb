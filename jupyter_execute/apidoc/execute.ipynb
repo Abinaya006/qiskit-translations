{
 "cells": [
  {
   "cell_type": "code",
   "execution_count": 1,
   "metadata": {
    "execution": {
     "iopub.execute_input": "2021-01-13T19:12:50.097835Z",
     "iopub.status.busy": "2021-01-13T19:12:50.097269Z",
     "iopub.status.idle": "2021-01-13T19:12:52.254778Z",
     "shell.execute_reply": "2021-01-13T19:12:52.256176Z"
    }
   },
   "outputs": [],
   "source": [
    "from qiskit import QuantumCircuit, execute, BasicAer\n",
    "\n",
    "backend = BasicAer.get_backend('qasm_simulator')\n",
    "\n",
    "qc = QuantumCircuit(5, 5)\n",
    "qc.h(0)\n",
    "qc.cx(0, range(1, 5))\n",
    "qc.measure_all()\n",
    "\n",
    "job = execute(qc, backend, shots=4321)"
   ]
  }
 ],
 "metadata": {
  "kernelspec": {
   "display_name": "Python 3",
   "language": "python",
   "name": "python3"
  },
  "language_info": {
   "codemirror_mode": {
    "name": "ipython",
    "version": 3
   },
   "file_extension": ".py",
   "mimetype": "text/x-python",
   "name": "python",
   "nbconvert_exporter": "python",
   "pygments_lexer": "ipython3",
   "version": "3.8.7"
  }
 },
 "nbformat": 4,
 "nbformat_minor": 4
}