{
 "cells": [
  {
   "cell_type": "code",
   "execution_count": 1,
   "id": "directed-profile",
   "metadata": {
    "execution": {
     "iopub.execute_input": "2021-01-19T21:30:28.448222Z",
     "iopub.status.busy": "2021-01-19T21:30:28.447582Z",
     "iopub.status.idle": "2021-01-19T21:30:30.568135Z",
     "shell.execute_reply": "2021-01-19T21:30:30.568634Z"
    }
   },
   "outputs": [],
   "source": [
    "from qiskit import BasicAer\n",
    "\n",
    "backend = BasicAer.get_backend('qasm_simulator')"
   ]
  }
 ],
 "metadata": {
  "kernelspec": {
   "display_name": "Python 3",
   "language": "python",
   "name": "python3"
  },
  "language_info": {
   "codemirror_mode": {
    "name": "ipython",
    "version": 3
   },
   "file_extension": ".py",
   "mimetype": "text/x-python",
   "name": "python",
   "nbconvert_exporter": "python",
   "pygments_lexer": "ipython3",
   "version": "3.8.7"
  }
 },
 "nbformat": 4,
 "nbformat_minor": 5
}