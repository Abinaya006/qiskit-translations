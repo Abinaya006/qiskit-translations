{
 "cells": [
  {
   "cell_type": "code",
   "execution_count": 1,
   "metadata": {
    "execution": {
     "iopub.execute_input": "2020-09-11T04:23:16.478715Z",
     "iopub.status.busy": "2020-09-11T04:23:16.478047Z",
     "iopub.status.idle": "2020-09-11T04:23:18.549348Z",
     "shell.execute_reply": "2020-09-11T04:23:18.549900Z"
    }
   },
   "outputs": [
    {
     "data": {
      "text/plain": [
       "'0.15.2'"
      ]
     },
     "execution_count": 1,
     "metadata": {},
     "output_type": "execute_result"
    }
   ],
   "source": [
    "import qiskit\n",
    "qiskit.__version__"
   ]
  },
  {
   "cell_type": "code",
   "execution_count": 2,
   "metadata": {
    "execution": {
     "iopub.execute_input": "2020-09-11T04:23:18.554766Z",
     "iopub.status.busy": "2020-09-11T04:23:18.554208Z",
     "iopub.status.idle": "2020-09-11T04:23:18.556920Z",
     "shell.execute_reply": "2020-09-11T04:23:18.557463Z"
    }
   },
   "outputs": [
    {
     "data": {
      "text/plain": [
       "{'qiskit-terra': '0.15.2',\n",
       " 'qiskit-aer': '0.6.1',\n",
       " 'qiskit-ignis': '0.4.0',\n",
       " 'qiskit-ibmq-provider': '0.8.0',\n",
       " 'qiskit-aqua': '0.7.5',\n",
       " 'qiskit': '0.20.1'}"
      ]
     },
     "execution_count": 2,
     "metadata": {},
     "output_type": "execute_result"
    }
   ],
   "source": [
    "qiskit.__qiskit_version__"
   ]
  }
 ],
 "metadata": {
  "kernelspec": {
   "display_name": "Python 3",
   "language": "python",
   "name": "python3"
  },
  "language_info": {
   "codemirror_mode": {
    "name": "ipython",
    "version": 3
   },
   "file_extension": ".py",
   "mimetype": "text/x-python",
   "name": "python",
   "nbconvert_exporter": "python",
   "pygments_lexer": "ipython3",
   "version": "3.8.5"
  }
 },
 "nbformat": 4,
 "nbformat_minor": 4
}