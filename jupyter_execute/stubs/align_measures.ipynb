{
 "cells": [
  {
   "cell_type": "code",
   "execution_count": 1,
   "id": "stable-genre",
   "metadata": {
    "execution": {
     "iopub.execute_input": "2021-01-22T11:09:28.171429Z",
     "iopub.status.busy": "2021-01-22T11:09:28.170938Z",
     "iopub.status.idle": "2021-01-22T11:09:30.057189Z",
     "shell.execute_reply": "2021-01-22T11:09:30.056466Z"
    }
   },
   "outputs": [],
   "source": [
    "from qiskit import pulse\n",
    "from qiskit.pulse import transforms\n",
    "\n",
    "with pulse.build() as sched:\n",
    "    with pulse.align_sequential():\n",
    "        pulse.play(pulse.Constant(10, 0.5), pulse.DriveChannel(0))\n",
    "        pulse.play(pulse.Constant(10, 1.), pulse.MeasureChannel(0))\n",
    "        pulse.acquire(20, pulse.AcquireChannel(0), pulse.MemorySlot(0))\n",
    "\n",
    "sched_shifted = sched << 20\n",
    "\n",
    "aligned_sched, aligned_sched_shifted = transforms.align_measures([sched, sched_shifted])\n",
    "\n",
    "assert aligned_sched == aligned_sched_shifted"
   ]
  },
  {
   "cell_type": "code",
   "execution_count": 2,
   "id": "fantastic-silver",
   "metadata": {
    "execution": {
     "iopub.execute_input": "2021-01-22T11:09:30.062219Z",
     "iopub.status.busy": "2021-01-22T11:09:30.061052Z",
     "iopub.status.idle": "2021-01-22T11:09:30.062763Z",
     "shell.execute_reply": "2021-01-22T11:09:30.063147Z"
    }
   },
   "outputs": [],
   "source": [
    "aligned_sched, aligned_sched_shifted = transforms.align_measures(\n",
    "    [sched, sched_shifted],\n",
    "    align_all=False,\n",
    ")\n",
    "\n",
    "assert aligned_sched != aligned_sched_shifted"
   ]
  }
 ],
 "metadata": {
  "kernelspec": {
   "display_name": "Python 3",
   "language": "python",
   "name": "python3"
  },
  "language_info": {
   "codemirror_mode": {
    "name": "ipython",
    "version": 3
   },
   "file_extension": ".py",
   "mimetype": "text/x-python",
   "name": "python",
   "nbconvert_exporter": "python",
   "pygments_lexer": "ipython3",
   "version": "3.8.6"
  }
 },
 "nbformat": 4,
 "nbformat_minor": 5
}