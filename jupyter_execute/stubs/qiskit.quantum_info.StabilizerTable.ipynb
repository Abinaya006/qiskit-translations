{
 "cells": [
  {
   "cell_type": "code",
   "execution_count": 1,
   "metadata": {
    "execution": {
     "iopub.execute_input": "2020-12-09T21:42:29.422537Z",
     "iopub.status.busy": "2020-12-09T21:42:29.422093Z",
     "iopub.status.idle": "2020-12-09T21:42:31.020494Z",
     "shell.execute_reply": "2020-12-09T21:42:31.020929Z"
    }
   },
   "outputs": [
    {
     "name": "stdout",
     "output_type": "stream",
     "text": [
      "StabilizerTable: ['+X', '-Z', '-I', '-Y']\n"
     ]
    }
   ],
   "source": [
    "from qiskit.quantum_info.operators import StabilizerTable\n",
    "\n",
    "current = StabilizerTable.from_labels(['+I', '-X'])\n",
    "other =  StabilizerTable.from_labels(['+X', '-Z'])\n",
    "print(current.compose(other))"
   ]
  },
  {
   "cell_type": "code",
   "execution_count": 2,
   "metadata": {
    "execution": {
     "iopub.execute_input": "2020-12-09T21:42:31.026480Z",
     "iopub.status.busy": "2020-12-09T21:42:31.025425Z",
     "iopub.status.idle": "2020-12-09T21:42:31.028116Z",
     "shell.execute_reply": "2020-12-09T21:42:31.027705Z"
    }
   },
   "outputs": [
    {
     "name": "stdout",
     "output_type": "stream",
     "text": [
      "StabilizerTable: ['+X', '-Z', '-I', '+Y']\n"
     ]
    }
   ],
   "source": [
    "from qiskit.quantum_info.operators import StabilizerTable\n",
    "\n",
    "current = StabilizerTable.from_labels(['+I', '-X'])\n",
    "other =  StabilizerTable.from_labels(['+X', '-Z'])\n",
    "print(current.dot(other))"
   ]
  },
  {
   "cell_type": "code",
   "execution_count": 3,
   "metadata": {
    "execution": {
     "iopub.execute_input": "2020-12-09T21:42:31.032862Z",
     "iopub.status.busy": "2020-12-09T21:42:31.032054Z",
     "iopub.status.idle": "2020-12-09T21:42:31.034652Z",
     "shell.execute_reply": "2020-12-09T21:42:31.034256Z"
    }
   },
   "outputs": [
    {
     "name": "stdout",
     "output_type": "stream",
     "text": [
      "StabilizerTable: ['-YI', '+ZI', '+YX', '-ZX']\n"
     ]
    }
   ],
   "source": [
    "from qiskit.quantum_info.operators import StabilizerTable\n",
    "\n",
    "current = StabilizerTable.from_labels(['+I', '-X'])\n",
    "other =  StabilizerTable.from_labels(['-Y', '+Z'])\n",
    "print(current.expand(other))"
   ]
  },
  {
   "cell_type": "code",
   "execution_count": 4,
   "metadata": {
    "execution": {
     "iopub.execute_input": "2020-12-09T21:42:31.041723Z",
     "iopub.status.busy": "2020-12-09T21:42:31.041224Z",
     "iopub.status.idle": "2020-12-09T21:42:31.043498Z",
     "shell.execute_reply": "2020-12-09T21:42:31.043872Z"
    }
   },
   "outputs": [
    {
     "name": "stdout",
     "output_type": "stream",
     "text": [
      "Initial Ordering\n",
      "StabilizerTable: ['+YZ', '-XX', '+ZX', '+XI', '-XI', '-XY', '+II', '+YY', '+XX', '+ZY', '-IZ', '+XZ', '+YI', '-IY', '-YX', '-ZY', '-ZX', '-IX', '+IX', '+IY', '+ZI', '-ZZ', '-II', '+IZ', '-YI', '-YY', '-ZI', '+ZZ', '-YZ', '+YX', '+XY', '-XZ']\n",
      "Lexicographically sorted\n",
      "StabilizerTable: ['+II', '-II', '-IX', '+IX', '-IY', '+IY', '-IZ', '+IZ', '+XI', '-XI', '-XX', '+XX', '-XY', '+XY', '+XZ', '-XZ', '+YI', '-YI', '-YX', '+YX', '+YY', '-YY', '+YZ', '-YZ', '+ZI', '-ZI', '+ZX', '-ZX', '+ZY', '-ZY', '-ZZ', '+ZZ']\n",
      "Weight sorted\n",
      "StabilizerTable: ['+II', '-II', '-IX', '+IX', '-IY', '+IY', '-IZ', '+IZ', '+XI', '-XI', '+YI', '-YI', '+ZI', '-ZI', '-XX', '+XX', '-XY', '+XY', '+XZ', '-XZ', '-YX', '+YX', '+YY', '-YY', '+YZ', '-YZ', '+ZX', '-ZX', '+ZY', '-ZY', '-ZZ', '+ZZ']\n"
     ]
    }
   ],
   "source": [
    "from numpy.random import shuffle\n",
    "from qiskit.quantum_info.operators import StabilizerTable\n",
    "\n",
    "# 2-qubit labels\n",
    "labels = ['+II', '+IX', '+IY', '+IZ', '+XI', '+XX', '+XY', '+XZ',\n",
    "          '+YI', '+YX', '+YY', '+YZ', '+ZI', '+ZX', '+ZY', '+ZZ',\n",
    "          '-II', '-IX', '-IY', '-IZ', '-XI', '-XX', '-XY', '-XZ',\n",
    "          '-YI', '-YX', '-YY', '-YZ', '-ZI', '-ZX', '-ZY', '-ZZ']\n",
    "# Shuffle Labels\n",
    "shuffle(labels)\n",
    "st = StabilizerTable.from_labels(labels)\n",
    "print('Initial Ordering')\n",
    "print(st)\n",
    "\n",
    "# Lexicographic Ordering\n",
    "srt = st.sort()\n",
    "print('Lexicographically sorted')\n",
    "print(srt)\n",
    "\n",
    "# Weight Ordering\n",
    "srt = st.sort(weight=True)\n",
    "print('Weight sorted')\n",
    "print(srt)"
   ]
  },
  {
   "cell_type": "code",
   "execution_count": 5,
   "metadata": {
    "execution": {
     "iopub.execute_input": "2020-12-09T21:42:31.048810Z",
     "iopub.status.busy": "2020-12-09T21:42:31.047788Z",
     "iopub.status.idle": "2020-12-09T21:42:31.050296Z",
     "shell.execute_reply": "2020-12-09T21:42:31.049901Z"
    }
   },
   "outputs": [
    {
     "name": "stdout",
     "output_type": "stream",
     "text": [
      "StabilizerTable: ['-IY', '+IZ', '+XY', '-XZ']\n"
     ]
    }
   ],
   "source": [
    "from qiskit.quantum_info.operators import StabilizerTable\n",
    "\n",
    "current = StabilizerTable.from_labels(['+I', '-X'])\n",
    "other =  StabilizerTable.from_labels(['-Y', '+Z'])\n",
    "print(current.tensor(other))"
   ]
  },
  {
   "cell_type": "code",
   "execution_count": 6,
   "metadata": {
    "execution": {
     "iopub.execute_input": "2020-12-09T21:42:31.054992Z",
     "iopub.status.busy": "2020-12-09T21:42:31.054175Z",
     "iopub.status.idle": "2020-12-09T21:42:31.056830Z",
     "shell.execute_reply": "2020-12-09T21:42:31.056433Z"
    }
   },
   "outputs": [
    {
     "name": "stdout",
     "output_type": "stream",
     "text": [
      "StabilizerTable: ['+X', '+I', '-I', '-X']\n"
     ]
    }
   ],
   "source": [
    "from qiskit.quantum_info.operators import StabilizerTable\n",
    "\n",
    "st = StabilizerTable.from_labels(['+X', '+I', '-I', '-X', '+X', '-X', '+I'])\n",
    "unique = st.unique()\n",
    "print(unique)"
   ]
  }
 ],
 "metadata": {
  "kernelspec": {
   "display_name": "Python 3",
   "language": "python",
   "name": "python3"
  },
  "language_info": {
   "codemirror_mode": {
    "name": "ipython",
    "version": 3
   },
   "file_extension": ".py",
   "mimetype": "text/x-python",
   "name": "python",
   "nbconvert_exporter": "python",
   "pygments_lexer": "ipython3",
   "version": "3.8.6"
  }
 },
 "nbformat": 4,
 "nbformat_minor": 4
}