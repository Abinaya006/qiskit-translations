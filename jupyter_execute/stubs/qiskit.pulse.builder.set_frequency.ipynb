{
 "cells": [
  {
   "cell_type": "code",
   "execution_count": 1,
   "metadata": {
    "execution": {
     "iopub.execute_input": "2020-12-08T20:44:10.183457Z",
     "iopub.status.busy": "2020-12-08T20:44:10.182867Z",
     "iopub.status.idle": "2020-12-08T20:44:12.124780Z",
     "shell.execute_reply": "2020-12-08T20:44:12.125238Z"
    }
   },
   "outputs": [],
   "source": [
    "from qiskit import pulse\n",
    "\n",
    "d0 = pulse.DriveChannel(0)\n",
    "\n",
    "with pulse.build() as pulse_prog:\n",
    "    pulse.set_frequency(1e9, d0)"
   ]
  }
 ],
 "metadata": {
  "kernelspec": {
   "display_name": "Python 3",
   "language": "python",
   "name": "python3"
  },
  "language_info": {
   "codemirror_mode": {
    "name": "ipython",
    "version": 3
   },
   "file_extension": ".py",
   "mimetype": "text/x-python",
   "name": "python",
   "nbconvert_exporter": "python",
   "pygments_lexer": "ipython3",
   "version": "3.8.6"
  }
 },
 "nbformat": 4,
 "nbformat_minor": 4
}