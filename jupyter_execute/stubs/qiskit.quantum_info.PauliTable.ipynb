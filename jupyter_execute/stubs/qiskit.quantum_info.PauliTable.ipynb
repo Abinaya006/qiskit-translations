{
 "cells": [
  {
   "cell_type": "code",
   "execution_count": 1,
   "id": "wrong-connection",
   "metadata": {
    "execution": {
     "iopub.execute_input": "2021-01-22T07:47:20.391514Z",
     "iopub.status.busy": "2021-01-22T07:47:20.390696Z",
     "iopub.status.idle": "2021-01-22T07:47:22.375663Z",
     "shell.execute_reply": "2021-01-22T07:47:22.376242Z"
    }
   },
   "outputs": [
    {
     "name": "stdout",
     "output_type": "stream",
     "text": [
      "PauliTable: ['Y', 'Z', 'Z', 'Y']\n"
     ]
    }
   ],
   "source": [
    "from qiskit.quantum_info.operators import PauliTable\n",
    "\n",
    "current = PauliTable.from_labels(['I', 'X'])\n",
    "other =  PauliTable.from_labels(['Y', 'Z'])\n",
    "print(current.compose(other))"
   ]
  },
  {
   "cell_type": "code",
   "execution_count": 2,
   "id": "boring-prison",
   "metadata": {
    "execution": {
     "iopub.execute_input": "2021-01-22T07:47:22.383766Z",
     "iopub.status.busy": "2021-01-22T07:47:22.382437Z",
     "iopub.status.idle": "2021-01-22T07:47:22.385554Z",
     "shell.execute_reply": "2021-01-22T07:47:22.385083Z"
    }
   },
   "outputs": [
    {
     "name": "stdout",
     "output_type": "stream",
     "text": [
      "PauliTable: ['Y', 'Z', 'Z', 'Y']\n"
     ]
    }
   ],
   "source": [
    "from qiskit.quantum_info.operators import PauliTable\n",
    "\n",
    "current = PauliTable.from_labels(['I', 'X'])\n",
    "other =  PauliTable.from_labels(['Y', 'Z'])\n",
    "print(current.dot(other))"
   ]
  },
  {
   "cell_type": "code",
   "execution_count": 3,
   "id": "stock-blake",
   "metadata": {
    "execution": {
     "iopub.execute_input": "2021-01-22T07:47:22.393821Z",
     "iopub.status.busy": "2021-01-22T07:47:22.392527Z",
     "iopub.status.idle": "2021-01-22T07:47:22.395642Z",
     "shell.execute_reply": "2021-01-22T07:47:22.395169Z"
    }
   },
   "outputs": [
    {
     "name": "stdout",
     "output_type": "stream",
     "text": [
      "PauliTable: ['YI', 'ZI', 'YX', 'ZX']\n"
     ]
    }
   ],
   "source": [
    "from qiskit.quantum_info.operators import PauliTable\n",
    "\n",
    "current = PauliTable.from_labels(['I', 'X'])\n",
    "other =  PauliTable.from_labels(['Y', 'Z'])\n",
    "print(current.expand(other))"
   ]
  },
  {
   "cell_type": "code",
   "execution_count": 4,
   "id": "pending-tiffany",
   "metadata": {
    "execution": {
     "iopub.execute_input": "2021-01-22T07:47:22.405137Z",
     "iopub.status.busy": "2021-01-22T07:47:22.402997Z",
     "iopub.status.idle": "2021-01-22T07:47:22.407166Z",
     "shell.execute_reply": "2021-01-22T07:47:22.407597Z"
    }
   },
   "outputs": [
    {
     "name": "stdout",
     "output_type": "stream",
     "text": [
      "Initial Ordering\n",
      "PauliTable: ['YX', 'XZ', 'ZZ', 'IX', 'XY', 'ZI', 'IY', 'II', 'IZ', 'YZ', 'YI', 'ZY', 'XI', 'XX', 'ZX', 'YY']\n",
      "Lexicographically sorted\n",
      "PauliTable: ['II', 'IX', 'IY', 'IZ', 'XI', 'XX', 'XY', 'XZ', 'YI', 'YX', 'YY', 'YZ', 'ZI', 'ZX', 'ZY', 'ZZ']\n",
      "Weight sorted\n",
      "PauliTable: ['II', 'IX', 'IY', 'IZ', 'XI', 'YI', 'ZI', 'XX', 'XY', 'XZ', 'YX', 'YY', 'YZ', 'ZX', 'ZY', 'ZZ']\n"
     ]
    }
   ],
   "source": [
    "from numpy.random import shuffle\n",
    "from qiskit.quantum_info.operators import PauliTable\n",
    "\n",
    "# 2-qubit labels\n",
    "labels = ['II', 'IX', 'IY', 'IZ', 'XI', 'XX', 'XY', 'XZ',\n",
    "          'YI', 'YX', 'YY', 'YZ', 'ZI', 'ZX', 'ZY', 'ZZ']\n",
    "# Shuffle Labels\n",
    "shuffle(labels)\n",
    "pt = PauliTable.from_labels(labels)\n",
    "print('Initial Ordering')\n",
    "print(pt)\n",
    "\n",
    "# Lexicographic Ordering\n",
    "srt = pt.sort()\n",
    "print('Lexicographically sorted')\n",
    "print(srt)\n",
    "\n",
    "# Weight Ordering\n",
    "srt = pt.sort(weight=True)\n",
    "print('Weight sorted')\n",
    "print(srt)"
   ]
  },
  {
   "cell_type": "code",
   "execution_count": 5,
   "id": "controlled-quality",
   "metadata": {
    "execution": {
     "iopub.execute_input": "2021-01-22T07:47:22.414787Z",
     "iopub.status.busy": "2021-01-22T07:47:22.413514Z",
     "iopub.status.idle": "2021-01-22T07:47:22.417068Z",
     "shell.execute_reply": "2021-01-22T07:47:22.416160Z"
    }
   },
   "outputs": [
    {
     "name": "stdout",
     "output_type": "stream",
     "text": [
      "PauliTable: ['IY', 'IZ', 'XY', 'XZ']\n"
     ]
    }
   ],
   "source": [
    "from qiskit.quantum_info.operators import PauliTable\n",
    "\n",
    "current = PauliTable.from_labels(['I', 'X'])\n",
    "other =  PauliTable.from_labels(['Y', 'Z'])\n",
    "print(current.tensor(other))"
   ]
  },
  {
   "cell_type": "code",
   "execution_count": 6,
   "id": "color-anaheim",
   "metadata": {
    "execution": {
     "iopub.execute_input": "2021-01-22T07:47:22.424720Z",
     "iopub.status.busy": "2021-01-22T07:47:22.423378Z",
     "iopub.status.idle": "2021-01-22T07:47:22.426889Z",
     "shell.execute_reply": "2021-01-22T07:47:22.426378Z"
    }
   },
   "outputs": [
    {
     "name": "stdout",
     "output_type": "stream",
     "text": [
      "PauliTable: ['X', 'Y', 'I', 'Z']\n"
     ]
    }
   ],
   "source": [
    "from qiskit.quantum_info.operators import PauliTable\n",
    "\n",
    "pt = PauliTable.from_labels(['X', 'Y', 'X', 'I', 'I', 'Z', 'X', 'Z'])\n",
    "unique = pt.unique()\n",
    "print(unique)"
   ]
  }
 ],
 "metadata": {
  "kernelspec": {
   "display_name": "Python 3",
   "language": "python",
   "name": "python3"
  },
  "language_info": {
   "codemirror_mode": {
    "name": "ipython",
    "version": 3
   },
   "file_extension": ".py",
   "mimetype": "text/x-python",
   "name": "python",
   "nbconvert_exporter": "python",
   "pygments_lexer": "ipython3",
   "version": "3.8.6"
  }
 },
 "nbformat": 4,
 "nbformat_minor": 5
}