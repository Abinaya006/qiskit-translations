{
 "cells": [
  {
   "cell_type": "code",
   "execution_count": 1,
   "id": "infrared-closing",
   "metadata": {
    "execution": {
     "iopub.execute_input": "2021-01-18T19:38:29.658901Z",
     "iopub.status.busy": "2021-01-18T19:38:29.658420Z",
     "iopub.status.idle": "2021-01-18T19:38:31.280059Z",
     "shell.execute_reply": "2021-01-18T19:38:31.279425Z"
    }
   },
   "outputs": [],
   "source": [
    "from qiskit import pulse\n",
    "from qiskit.test.mock import FakeOpenPulse2Q\n",
    "\n",
    "backend = FakeOpenPulse2Q()\n",
    "\n",
    "with pulse.build(backend) as pulse_prog:\n",
    "    # Measure all qubits and return associated registers.\n",
    "    regs = pulse.measure_all()"
   ]
  }
 ],
 "metadata": {
  "kernelspec": {
   "display_name": "Python 3",
   "language": "python",
   "name": "python3"
  },
  "language_info": {
   "codemirror_mode": {
    "name": "ipython",
    "version": 3
   },
   "file_extension": ".py",
   "mimetype": "text/x-python",
   "name": "python",
   "nbconvert_exporter": "python",
   "pygments_lexer": "ipython3",
   "version": "3.8.7"
  }
 },
 "nbformat": 4,
 "nbformat_minor": 5
}