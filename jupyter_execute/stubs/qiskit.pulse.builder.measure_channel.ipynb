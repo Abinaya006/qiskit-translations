{
 "cells": [
  {
   "cell_type": "code",
   "execution_count": 1,
   "metadata": {
    "execution": {
     "iopub.execute_input": "2020-11-23T17:15:31.211731Z",
     "iopub.status.busy": "2020-11-23T17:15:31.211173Z",
     "iopub.status.idle": "2020-11-23T17:15:33.090003Z",
     "shell.execute_reply": "2020-11-23T17:15:33.089092Z"
    }
   },
   "outputs": [],
   "source": [
    "from qiskit import pulse\n",
    "from qiskit.test.mock import FakeOpenPulse2Q\n",
    "\n",
    "backend = FakeOpenPulse2Q()\n",
    "\n",
    "with pulse.build(backend):\n",
    "    assert pulse.measure_channel(0) == pulse.MeasureChannel(0)"
   ]
  }
 ],
 "metadata": {
  "kernelspec": {
   "display_name": "Python 3",
   "language": "python",
   "name": "python3"
  },
  "language_info": {
   "codemirror_mode": {
    "name": "ipython",
    "version": 3
   },
   "file_extension": ".py",
   "mimetype": "text/x-python",
   "name": "python",
   "nbconvert_exporter": "python",
   "pygments_lexer": "ipython3",
   "version": "3.8.6"
  }
 },
 "nbformat": 4,
 "nbformat_minor": 4
}