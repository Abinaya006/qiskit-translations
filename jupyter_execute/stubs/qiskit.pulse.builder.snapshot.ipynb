{
 "cells": [
  {
   "cell_type": "code",
   "execution_count": 1,
   "id": "individual-taiwan",
   "metadata": {
    "execution": {
     "iopub.execute_input": "2021-01-21T15:12:33.552433Z",
     "iopub.status.busy": "2021-01-21T15:12:33.551775Z",
     "iopub.status.idle": "2021-01-21T15:12:35.355121Z",
     "shell.execute_reply": "2021-01-21T15:12:35.354434Z"
    }
   },
   "outputs": [],
   "source": [
    "from qiskit import pulse\n",
    "\n",
    "with pulse.build() as pulse_prog:\n",
    "    pulse.snapshot('first', 'statevector')"
   ]
  }
 ],
 "metadata": {
  "kernelspec": {
   "display_name": "Python 3",
   "language": "python",
   "name": "python3"
  },
  "language_info": {
   "codemirror_mode": {
    "name": "ipython",
    "version": 3
   },
   "file_extension": ".py",
   "mimetype": "text/x-python",
   "name": "python",
   "nbconvert_exporter": "python",
   "pygments_lexer": "ipython3",
   "version": "3.8.6"
  }
 },
 "nbformat": 4,
 "nbformat_minor": 5
}