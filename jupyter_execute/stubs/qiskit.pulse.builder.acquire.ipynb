{
 "cells": [
  {
   "cell_type": "code",
   "execution_count": 1,
   "metadata": {
    "execution": {
     "iopub.execute_input": "2020-12-10T05:08:38.797923Z",
     "iopub.status.busy": "2020-12-10T05:08:38.796996Z",
     "iopub.status.idle": "2020-12-10T05:08:40.653339Z",
     "shell.execute_reply": "2020-12-10T05:08:40.653870Z"
    }
   },
   "outputs": [],
   "source": [
    "from qiskit import pulse\n",
    "\n",
    "d0 = pulse.MeasureChannel(0)\n",
    "mem0 = pulse.MemorySlot(0)\n",
    "\n",
    "with pulse.build() as pulse_prog:\n",
    "    pulse.acquire(100, d0, mem0)\n",
    "\n",
    "    # measurement metadata\n",
    "    kernel = pulse.configuration.Kernel('linear_discriminator')\n",
    "    pulse.acquire(100, d0, mem0, kernel=kernel)"
   ]
  }
 ],
 "metadata": {
  "kernelspec": {
   "display_name": "Python 3",
   "language": "python",
   "name": "python3"
  },
  "language_info": {
   "codemirror_mode": {
    "name": "ipython",
    "version": 3
   },
   "file_extension": ".py",
   "mimetype": "text/x-python",
   "name": "python",
   "nbconvert_exporter": "python",
   "pygments_lexer": "ipython3",
   "version": "3.8.6"
  }
 },
 "nbformat": 4,
 "nbformat_minor": 4
}