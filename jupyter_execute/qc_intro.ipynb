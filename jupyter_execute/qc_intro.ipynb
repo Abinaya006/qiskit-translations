{
 "cells": [
  {
   "cell_type": "code",
   "execution_count": 1,
   "id": "pursuant-collectible",
   "metadata": {
    "execution": {
     "iopub.execute_input": "2021-01-21T15:03:01.292293Z",
     "iopub.status.busy": "2021-01-21T15:03:01.291709Z",
     "iopub.status.idle": "2021-01-21T15:03:03.176687Z",
     "shell.execute_reply": "2021-01-21T15:03:03.175870Z"
    }
   },
   "outputs": [],
   "source": [
    "from qiskit import *"
   ]
  },
  {
   "cell_type": "code",
   "execution_count": 2,
   "id": "manual-concentration",
   "metadata": {
    "execution": {
     "iopub.execute_input": "2021-01-21T15:03:03.188282Z",
     "iopub.status.busy": "2021-01-21T15:03:03.184435Z",
     "iopub.status.idle": "2021-01-21T15:03:03.190458Z",
     "shell.execute_reply": "2021-01-21T15:03:03.190900Z"
    }
   },
   "outputs": [
    {
     "data": {
      "text/plain": [
       "<qiskit.circuit.instructionset.InstructionSet at 0x7f3225810d60>"
      ]
     },
     "execution_count": 2,
     "metadata": {},
     "output_type": "execute_result"
    }
   ],
   "source": [
    "qr = QuantumRegister(3, 'q')\n",
    "cr = ClassicalRegister(2, 'zx_meas')\n",
    "qc = QuantumCircuit(qr,cr)\n",
    "qc.reset(range(3))\n",
    "qc.barrier()\n",
    "qc.h(1)\n",
    "qc.cx([1,0],[2,1])\n",
    "qc.h(0)\n",
    "qc.barrier()\n",
    "qc.measure([0,1], [0,1])\n",
    "qc.barrier()\n",
    "qc.z(2).c_if(cr, 1)\n",
    "qc.x(2).c_if(cr, 2)"
   ]
  }
 ],
 "metadata": {
  "kernelspec": {
   "display_name": "Python 3",
   "language": "python",
   "name": "python3"
  },
  "language_info": {
   "codemirror_mode": {
    "name": "ipython",
    "version": 3
   },
   "file_extension": ".py",
   "mimetype": "text/x-python",
   "name": "python",
   "nbconvert_exporter": "python",
   "pygments_lexer": "ipython3",
   "version": "3.8.6"
  }
 },
 "nbformat": 4,
 "nbformat_minor": 5
}