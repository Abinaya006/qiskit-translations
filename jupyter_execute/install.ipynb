{
 "cells": [
  {
   "cell_type": "code",
   "execution_count": 1,
   "metadata": {
    "execution": {
     "iopub.execute_input": "2020-10-19T09:37:17.037813Z",
     "iopub.status.busy": "2020-10-19T09:37:17.036299Z",
     "iopub.status.idle": "2020-10-19T09:37:19.218450Z",
     "shell.execute_reply": "2020-10-19T09:37:19.217800Z"
    }
   },
   "outputs": [
    {
     "data": {
      "text/plain": [
       "'0.16.0'"
      ]
     },
     "execution_count": 1,
     "metadata": {},
     "output_type": "execute_result"
    }
   ],
   "source": [
    "import qiskit\n",
    "qiskit.__version__"
   ]
  },
  {
   "cell_type": "code",
   "execution_count": 2,
   "metadata": {
    "execution": {
     "iopub.execute_input": "2020-10-19T09:37:19.223489Z",
     "iopub.status.busy": "2020-10-19T09:37:19.222849Z",
     "iopub.status.idle": "2020-10-19T09:37:19.228053Z",
     "shell.execute_reply": "2020-10-19T09:37:19.227517Z"
    }
   },
   "outputs": [
    {
     "data": {
      "text/plain": [
       "{'qiskit-terra': '0.16.0',\n",
       " 'qiskit-aer': '0.7.0',\n",
       " 'qiskit-ignis': '0.5.0',\n",
       " 'qiskit-ibmq-provider': '0.11.0',\n",
       " 'qiskit-aqua': '0.8.0',\n",
       " 'qiskit': '0.23.0'}"
      ]
     },
     "execution_count": 2,
     "metadata": {},
     "output_type": "execute_result"
    }
   ],
   "source": [
    "qiskit.__qiskit_version__"
   ]
  }
 ],
 "metadata": {
  "kernelspec": {
   "display_name": "Python 3",
   "language": "python",
   "name": "python3"
  },
  "language_info": {
   "codemirror_mode": {
    "name": "ipython",
    "version": 3
   },
   "file_extension": ".py",
   "mimetype": "text/x-python",
   "name": "python",
   "nbconvert_exporter": "python",
   "pygments_lexer": "ipython3",
   "version": "3.8.6"
  }
 },
 "nbformat": 4,
 "nbformat_minor": 4
}