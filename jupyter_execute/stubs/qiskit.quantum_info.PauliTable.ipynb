{
 "cells": [
  {
   "cell_type": "code",
   "execution_count": 1,
   "id": "acceptable-jesus",
   "metadata": {
    "execution": {
     "iopub.execute_input": "2021-01-21T15:13:31.239152Z",
     "iopub.status.busy": "2021-01-21T15:13:31.238497Z",
     "iopub.status.idle": "2021-01-21T15:13:33.025269Z",
     "shell.execute_reply": "2021-01-21T15:13:33.024523Z"
    }
   },
   "outputs": [
    {
     "name": "stdout",
     "output_type": "stream",
     "text": [
      "PauliTable: ['Y', 'Z', 'Z', 'Y']\n"
     ]
    }
   ],
   "source": [
    "from qiskit.quantum_info.operators import PauliTable\n",
    "\n",
    "current = PauliTable.from_labels(['I', 'X'])\n",
    "other =  PauliTable.from_labels(['Y', 'Z'])\n",
    "print(current.compose(other))"
   ]
  },
  {
   "cell_type": "code",
   "execution_count": 2,
   "id": "bridal-acceptance",
   "metadata": {
    "execution": {
     "iopub.execute_input": "2021-01-21T15:13:33.032577Z",
     "iopub.status.busy": "2021-01-21T15:13:33.031173Z",
     "iopub.status.idle": "2021-01-21T15:13:33.034404Z",
     "shell.execute_reply": "2021-01-21T15:13:33.033926Z"
    }
   },
   "outputs": [
    {
     "name": "stdout",
     "output_type": "stream",
     "text": [
      "PauliTable: ['Y', 'Z', 'Z', 'Y']\n"
     ]
    }
   ],
   "source": [
    "from qiskit.quantum_info.operators import PauliTable\n",
    "\n",
    "current = PauliTable.from_labels(['I', 'X'])\n",
    "other =  PauliTable.from_labels(['Y', 'Z'])\n",
    "print(current.dot(other))"
   ]
  },
  {
   "cell_type": "code",
   "execution_count": 3,
   "id": "offensive-sunglasses",
   "metadata": {
    "execution": {
     "iopub.execute_input": "2021-01-21T15:13:33.041059Z",
     "iopub.status.busy": "2021-01-21T15:13:33.039785Z",
     "iopub.status.idle": "2021-01-21T15:13:33.042873Z",
     "shell.execute_reply": "2021-01-21T15:13:33.042399Z"
    }
   },
   "outputs": [
    {
     "name": "stdout",
     "output_type": "stream",
     "text": [
      "PauliTable: ['YI', 'ZI', 'YX', 'ZX']\n"
     ]
    }
   ],
   "source": [
    "from qiskit.quantum_info.operators import PauliTable\n",
    "\n",
    "current = PauliTable.from_labels(['I', 'X'])\n",
    "other =  PauliTable.from_labels(['Y', 'Z'])\n",
    "print(current.expand(other))"
   ]
  },
  {
   "cell_type": "code",
   "execution_count": 4,
   "id": "recognized-knock",
   "metadata": {
    "execution": {
     "iopub.execute_input": "2021-01-21T15:13:33.051779Z",
     "iopub.status.busy": "2021-01-21T15:13:33.049833Z",
     "iopub.status.idle": "2021-01-21T15:13:33.053907Z",
     "shell.execute_reply": "2021-01-21T15:13:33.054350Z"
    }
   },
   "outputs": [
    {
     "name": "stdout",
     "output_type": "stream",
     "text": [
      "Initial Ordering\n",
      "PauliTable: ['XY', 'XZ', 'ZI', 'YZ', 'IZ', 'ZY', 'ZZ', 'YX', 'IY', 'IX', 'II', 'YY', 'XI', 'ZX', 'XX', 'YI']\n",
      "Lexicographically sorted\n",
      "PauliTable: ['II', 'IX', 'IY', 'IZ', 'XI', 'XX', 'XY', 'XZ', 'YI', 'YX', 'YY', 'YZ', 'ZI', 'ZX', 'ZY', 'ZZ']\n",
      "Weight sorted\n",
      "PauliTable: ['II', 'IX', 'IY', 'IZ', 'XI', 'YI', 'ZI', 'XX', 'XY', 'XZ', 'YX', 'YY', 'YZ', 'ZX', 'ZY', 'ZZ']\n"
     ]
    }
   ],
   "source": [
    "from numpy.random import shuffle\n",
    "from qiskit.quantum_info.operators import PauliTable\n",
    "\n",
    "# 2-qubit labels\n",
    "labels = ['II', 'IX', 'IY', 'IZ', 'XI', 'XX', 'XY', 'XZ',\n",
    "          'YI', 'YX', 'YY', 'YZ', 'ZI', 'ZX', 'ZY', 'ZZ']\n",
    "# Shuffle Labels\n",
    "shuffle(labels)\n",
    "pt = PauliTable.from_labels(labels)\n",
    "print('Initial Ordering')\n",
    "print(pt)\n",
    "\n",
    "# Lexicographic Ordering\n",
    "srt = pt.sort()\n",
    "print('Lexicographically sorted')\n",
    "print(srt)\n",
    "\n",
    "# Weight Ordering\n",
    "srt = pt.sort(weight=True)\n",
    "print('Weight sorted')\n",
    "print(srt)"
   ]
  },
  {
   "cell_type": "code",
   "execution_count": 5,
   "id": "approximate-studio",
   "metadata": {
    "execution": {
     "iopub.execute_input": "2021-01-21T15:13:33.060096Z",
     "iopub.status.busy": "2021-01-21T15:13:33.058835Z",
     "iopub.status.idle": "2021-01-21T15:13:33.061903Z",
     "shell.execute_reply": "2021-01-21T15:13:33.061420Z"
    }
   },
   "outputs": [
    {
     "name": "stdout",
     "output_type": "stream",
     "text": [
      "PauliTable: ['IY', 'IZ', 'XY', 'XZ']\n"
     ]
    }
   ],
   "source": [
    "from qiskit.quantum_info.operators import PauliTable\n",
    "\n",
    "current = PauliTable.from_labels(['I', 'X'])\n",
    "other =  PauliTable.from_labels(['Y', 'Z'])\n",
    "print(current.tensor(other))"
   ]
  },
  {
   "cell_type": "code",
   "execution_count": 6,
   "id": "muslim-leonard",
   "metadata": {
    "execution": {
     "iopub.execute_input": "2021-01-21T15:13:33.067480Z",
     "iopub.status.busy": "2021-01-21T15:13:33.066334Z",
     "iopub.status.idle": "2021-01-21T15:13:33.069279Z",
     "shell.execute_reply": "2021-01-21T15:13:33.068804Z"
    }
   },
   "outputs": [
    {
     "name": "stdout",
     "output_type": "stream",
     "text": [
      "PauliTable: ['X', 'Y', 'I', 'Z']\n"
     ]
    }
   ],
   "source": [
    "from qiskit.quantum_info.operators import PauliTable\n",
    "\n",
    "pt = PauliTable.from_labels(['X', 'Y', 'X', 'I', 'I', 'Z', 'X', 'Z'])\n",
    "unique = pt.unique()\n",
    "print(unique)"
   ]
  }
 ],
 "metadata": {
  "kernelspec": {
   "display_name": "Python 3",
   "language": "python",
   "name": "python3"
  },
  "language_info": {
   "codemirror_mode": {
    "name": "ipython",
    "version": 3
   },
   "file_extension": ".py",
   "mimetype": "text/x-python",
   "name": "python",
   "nbconvert_exporter": "python",
   "pygments_lexer": "ipython3",
   "version": "3.8.6"
  }
 },
 "nbformat": 4,
 "nbformat_minor": 5
}